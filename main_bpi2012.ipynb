{
 "cells": [
  {
   "cell_type": "code",
   "execution_count": 1,
   "metadata": {},
   "outputs": [],
   "source": [
    "import numpy as np\n",
    "import random\n",
    "import pandas as pd\n",
    "from pm4py.objects.log.util import dataframe_utils\n",
    "from pm4py.objects.conversion.log import converter as log_converter\n",
    "from pm4py.algo.discovery.inductive import algorithm as inductive_miner\n",
    "from pm4py.visualization.process_tree import visualizer as pt_visualizer\n",
    "from pm4py.visualization.dfg import visualizer as dfg_visualization\n",
    "from pm4py.algo.discovery.dfg import algorithm as dfg_discovery\n",
    "import networkx as nx\n",
    "from networkx.drawing.nx_agraph import graphviz_layout, to_agraph\n",
    "import matplotlib.pyplot as plt\n",
    "\n",
    "import copy\n",
    "from collections import Counter\n",
    "\n",
    "import pygraphviz as pgv\n",
    "import json\n",
    "\n",
    "import pm4py\n",
    "\n",
    "from collections import Counter\n",
    "import subprocess\n",
    "\n",
    "from sklearn import mixture # for classifiers"
   ]
  },
  {
   "cell_type": "code",
   "execution_count": null,
   "metadata": {},
   "outputs": [],
   "source": [
    "# global variables\n",
    "SAVE_ELEMENTS = True\n",
    "\n",
    "#paths\n",
    "BPI_PATH = 'BPI_Challenge_2012.xes'\n",
    "ACTIVITIES_PATH = 'activities.xml'\n",
    "\n",
    "# log processing\n",
    "MIN_SPEAKING_TIME = 60\n",
    "SPEAK_THRESHOLD = 600\n",
    "DAY_DIFFERENCE = 20\n",
    "CLUSTER_COMPONENTS = 3\n",
    "\n",
    "# verfification\n",
    "VERIFYTA_PATH = \"/home/paul/Downloads/uppaal-4.1.20-stratego-9-linux64/bin/verifyta\"\n",
    "INTERMEDIATE_MODEL_NAME = \"bpi2017subgraph.xml\"\n",
    "\n",
    "# transition system\n",
    "SEQUENCE_HISTORY = 3"
   ]
  },
  {
   "cell_type": "code",
   "execution_count": 2,
   "metadata": {},
   "outputs": [
    {
     "name": "stderr",
     "output_type": "stream",
     "text": [
      "parsing log, completed traces :: 100%|██████████| 13087/13087 [00:07<00:00, 1679.58it/s]\n"
     ]
    }
   ],
   "source": [
    "# Load the log\n",
    "from pm4py.objects.log.importer.xes import importer as xes_importer\n",
    "log_application = xes_importer.apply(BPI_PATH)"
   ]
  },
  {
   "cell_type": "code",
   "execution_count": 3,
   "metadata": {},
   "outputs": [
    {
     "name": "stdout",
     "output_type": "stream",
     "text": [
      "len before 13087\n",
      "len after 9333\n"
     ]
    }
   ],
   "source": [
    "def filter_log(log):\n",
    "    perc = 2/len(log)\n",
    "    return pm4py.filter_variants_by_coverage_percentage(log, perc)\n",
    "\n",
    "filtered_log = filter_log(log_application)\n",
    "\n",
    "print(\"Cases before\", len(log_application))\n",
    "print(\"Cases after\", len(filtered_log))"
   ]
  },
  {
   "cell_type": "code",
   "execution_count": 4,
   "metadata": {},
   "outputs": [
    {
     "name": "stdout",
     "output_type": "stream",
     "text": [
      "23\n",
      "['A_FINALIZED', 'A_SUBMITTED', 'W_Fixing incoming lead', 'O_SELECTED', 'O_CREATED', 'O_SENT_BACK', 'W_Calling missing information', 'W_Filling in information for the application', 'A_ACCEPTED', 'A_APPROVED', 'A_REGISTERED', 'O_DECLINED', 'A_CANCELLED', 'O_SENT', 'O_CANCELLED', 'O_ACCEPTED', 'A_PREACCEPTED', 'W_Assessing the application', 'A_PARTLYSUBMITTED', 'W_Check fraud', 'W_Calling after sent offers', 'A_ACTIVATED', 'A_DECLINED']\n"
     ]
    }
   ],
   "source": [
    "# activities\n",
    "activities = set()\n",
    "for trace in filtered_log:\n",
    "    for e in trace:\n",
    "        activities.add(e['concept:name'])\n",
    "print(len(activities))\n",
    "\n",
    "\n",
    "renaming = {\n",
    "\"W_Afhandelen leads\":\"W_Fixing incoming lead\",\n",
    "\"W_Completeren aanvraag\": \"W_Filling in information for the application\",\n",
    "\"W_Valideren aanvraag\":\t\"W_Assessing the application\",\n",
    "\"W_Nabellen offertes\":\"W_Calling after sent offers\",\n",
    "\"W_Nabellen incomplete dossiers\":\"W_Calling missing information\",\n",
    "\"W_Beoordelen fraude\":\"W_Check fraud\",\n",
    "}\n",
    "\n",
    "activities = [item.replace(item, renaming[item]) if item in renaming else item for item in activities ]\n",
    "\n",
    "print(activities)\n"
   ]
  },
  {
   "cell_type": "code",
   "execution_count": 5,
   "metadata": {},
   "outputs": [
    {
     "data": {
      "text/plain": [
       "(array([3.429e+03, 2.494e+03, 5.400e+02, 4.280e+02, 2.010e+02, 4.050e+02,\n",
       "        3.050e+02, 2.700e+02, 4.890e+02, 2.090e+02, 2.070e+02, 1.470e+02,\n",
       "        8.400e+01, 7.100e+01, 1.900e+01, 2.000e+01, 1.100e+01, 2.000e+00,\n",
       "        0.000e+00, 2.000e+00]),\n",
       " array([ 3. ,  5.6,  8.2, 10.8, 13.4, 16. , 18.6, 21.2, 23.8, 26.4, 29. ,\n",
       "        31.6, 34.2, 36.8, 39.4, 42. , 44.6, 47.2, 49.8, 52.4, 55. ]),\n",
       " <BarContainer object of 20 artists>)"
      ]
     },
     "execution_count": 5,
     "metadata": {},
     "output_type": "execute_result"
    },
    {
     "data": {
      "image/png": "[encoded data removed]",
      "text/plain": [
       "<Figure size 432x288 with 1 Axes>"
      ]
     },
     "metadata": {
      "needs_background": "light"
     },
     "output_type": "display_data"
    }
   ],
   "source": [
    "# length of journeys\n",
    "lengths = []\n",
    "\n",
    "for trace in filtered_log:\n",
    "    lengths.append(len(trace))\n",
    "\n",
    "plt.hist(lengths, 20)"
   ]
  },
  {
   "cell_type": "code",
   "execution_count": 6,
   "metadata": {},
   "outputs": [
    {
     "name": "stdout",
     "output_type": "stream",
     "text": [
      "{'org:resource': '112', 'lifecycle:transition': 'COMPLETE', 'concept:name': 'A_SUBMITTED', 'time:timestamp': datetime.datetime(2012, 2, 16, 10, 3, 6, 252000, tzinfo=datetime.timezone(datetime.timedelta(seconds=3600)))}\n",
      "{'org:resource': '112', 'lifecycle:transition': 'COMPLETE', 'concept:name': 'A_PARTLYSUBMITTED', 'time:timestamp': datetime.datetime(2012, 2, 16, 10, 3, 7, 376000, tzinfo=datetime.timezone(datetime.timedelta(seconds=3600)))}\n",
      "{'org:resource': '112', 'lifecycle:transition': 'SCHEDULE', 'concept:name': 'W_Afhandelen leads', 'time:timestamp': datetime.datetime(2012, 2, 16, 10, 3, 57, 245000, tzinfo=datetime.timezone(datetime.timedelta(seconds=3600)))}\n",
      "{'org:resource': '11003', 'lifecycle:transition': 'START', 'concept:name': 'W_Afhandelen leads', 'time:timestamp': datetime.datetime(2012, 2, 16, 13, 18, 18, 287000, tzinfo=datetime.timezone(datetime.timedelta(seconds=3600)))}\n",
      "{'org:resource': '11003', 'lifecycle:transition': 'COMPLETE', 'concept:name': 'A_DECLINED', 'time:timestamp': datetime.datetime(2012, 2, 16, 13, 20, 15, 389000, tzinfo=datetime.timezone(datetime.timedelta(seconds=3600)))}\n",
      "{'org:resource': '11003', 'lifecycle:transition': 'COMPLETE', 'concept:name': 'W_Afhandelen leads', 'time:timestamp': datetime.datetime(2012, 2, 16, 13, 20, 18, 858000, tzinfo=datetime.timezone(datetime.timedelta(seconds=3600)))}\n"
     ]
    }
   ],
   "source": [
    "for e in filtered_log[5348]:\n",
    "    print(e)"
   ]
  },
  {
   "cell_type": "code",
   "execution_count": 7,
   "metadata": {},
   "outputs": [],
   "source": [
    "def contains(trace, element):\n",
    "    for event in trace:\n",
    "        if event['concept:name']==element:\n",
    "            return True\n",
    "    return False"
   ]
  },
  {
   "attachments": {},
   "cell_type": "markdown",
   "metadata": {},
   "source": [
    "# Preprocessing\n",
    "\n",
    "In the preprocessing, we:\n",
    "- transform the log into a list format\n",
    "- remove trivial events\n",
    "- remove incomplete and declines journeys\n",
    "- compute durations of calls\n",
    "- cluster call events "
   ]
  },
  {
   "cell_type": "code",
   "execution_count": 8,
   "metadata": {},
   "outputs": [],
   "source": [
    "# detect \"redundant\" events -> can be omitted\n",
    "\n",
    "for trace in filtered_log:\n",
    "    for i in range(len(trace)):\n",
    "        if trace[i]['concept:name'] == \"A_PARTLYSUBMITTED\":\n",
    "            assert(trace[i-1]['concept:name']== \"A_SUBMITTED\")\n",
    "\n",
    "        \"\"\"\n",
    "        # cant confirm from paper\n",
    "        if trace[i]['concept:name'] == \"O_CANCELLED\":\n",
    "            if not (trace[i+1]['concept:name'] == \"A_CANCELLED\" or trace[i-1]['concept:name'] == \"A_CANCELLED\"):\n",
    "                print(trace[i-4]['concept:name'])\n",
    "                print(trace[i-3]['concept:name'])\n",
    "                print(trace[i-2]['concept:name'])\n",
    "                print(trace[i-1]['concept:name'])\n",
    "                print(trace[i]['concept:name'])\n",
    "                print(trace[i+1]['concept:name'])\n",
    "                print(trace[i+2]['concept:name'])\n",
    "                print(trace[i+3]['concept:name'])\n",
    "                print(trace[i+4]['concept:name'])\n",
    "                print(trace[i+5]['concept:name'])\n",
    "                print(trace[i+6]['concept:name'])\n",
    "                print(trace[i+7]['concept:name'])\n",
    "                print(trace[i+8]['concept:name'])\n",
    "                print(trace[i+9]['concept:name'])\n",
    "            assert(trace[i+1]['concept:name']== \"A_CANCELLED\" or trace[i-1]['concept:name']== \"A_CANCELLED\")\n",
    "        \"\"\"\n",
    "\n",
    "        if trace[i]['concept:name'] == \"O_DECLINED\":\n",
    "            assert(trace[i+1]['concept:name']== \"A_DECLINED\" or trace[i-1]['concept:name']== \"A_DECLINED\")\n",
    "        \n",
    "        # in successfull traces always 4 events together; occur only in successfull traces\n",
    "        if contains(trace, \"A_APPROVED\"):\n",
    "            if trace[i]['concept:name'] == \"A_APPROVED\":\n",
    "                pos1 = 0\n",
    "                pos2 = 0\n",
    "                pos3 = 0\n",
    "                for j in range(len(trace)):\n",
    "                    if trace[j][\"concept:name\"] == \"O_ACCEPTED\":\n",
    "                        pos1 = j\n",
    "                for j in range(len(trace)):\n",
    "                    if trace[j][\"concept:name\"] == \"A_ACTIVATED\":\n",
    "                        pos2 = j\n",
    "                for j in range(len(trace)):\n",
    "                    if trace[j][\"concept:name\"] == \"A_REGISTERED\":\n",
    "                        pos3 = j\n",
    "\n",
    "                s = sorted([pos1, pos2, pos3, i])\n",
    "                assert(s[0] == s[1]-1 and s[1] == s[2]-1 and s[2] == s[3]-1)\n",
    "        else:\n",
    "            assert(not contains(trace, \"A_APPROVED\"))\n",
    "            assert(not contains(trace, \"O_ACCEPTED\"))\n",
    "            assert(not contains(trace, \"A_ACTIVATED\"))\n",
    "            assert(not contains(trace, \"A_REGISTERED\"))\n",
    "\n",
    "        if trace[i]['concept:name'] == \"O_CREATED\":\n",
    "            assert(trace[i+1]['concept:name']== \"O_SENT\")"
   ]
  },
  {
   "cell_type": "code",
   "execution_count": 9,
   "metadata": {},
   "outputs": [
    {
     "name": "stdout",
     "output_type": "stream",
     "text": [
      "30\n",
      "['O_SELECTED', 'O_CREATED0', 'O_SENT0', 'O_CANCELLED', 'O_SELECTED', 'O_CREATED1', 'O_SENT1', 'O_SELECTED', 'O_CANCELLED', 'O_CREATED2', 'O_SENT2', 'O_CANCELLED', 'O_SELECTED', 'O_CREATED3', 'O_SENT3', 'O_SENT_BACK', 'O_SELECTED', 'O_CANCELLED', 'O_CREATED4', 'O_SENT4', 'O_SELECTED', 'O_CANCELLED', 'O_CREATED5', 'O_SENT5', 'O_SELECTED', 'O_CANCELLED', 'O_CREATED6', 'O_SENT6', 'O_SENT_BACK', 'O_ACCEPTED']\n",
      "{'O_CREATED5', 'O_CREATED1', 'O_CREATED4', 'O_SENT3', 'O_CREATED0', 'O_SENT0', 'O_CANCELLED', 'O_CREATED2', 'O_SENT1', 'O_SENT4', 'O_CREATED3', 'O_SENT6', 'O_ACCEPTED', 'O_CREATED6', 'O_SENT5', 'O_SELECTED', 'O_SENT2', 'O_SENT_BACK'}\n"
     ]
    }
   ],
   "source": [
    "# investigate number of offers - has no event for \"sent offer\"\n",
    "count = 0\n",
    "offer_list = []\n",
    "for trace in log_application:\n",
    "    found_offers = []\n",
    "    found_counts = 0\n",
    "    offer_count = -1\n",
    "    for e in trace:\n",
    "        if \"O_CREATED\" in e[\"concept:name\"]:\n",
    "            offer_count += 1\n",
    "            e[\"concept:name\"] += str(offer_count)\n",
    "\n",
    "        elif \"O_SENT\" in e[\"concept:name\"] and \"BACK\" not in e[\"concept:name\"]:\n",
    "            e[\"concept:name\"] += str(offer_count)\n",
    "            \n",
    "        if \"O_\" in e[\"concept:name\"]:\n",
    "            found_offers.append(e[\"concept:name\"])\n",
    "            found_counts += 1\n",
    "\n",
    "    offer_list = found_offers if len(found_offers) > len(offer_list) else offer_list\n",
    "    count = max(count, found_counts)\n",
    "\n",
    "print(count)\n",
    "print(offer_list)\n",
    "print(set(offer_list))"
   ]
  },
  {
   "cell_type": "code",
   "execution_count": 10,
   "metadata": {},
   "outputs": [],
   "source": [
    "# after accpeting offer\n",
    "accepted = True\n",
    "traces = {}\n",
    "for trace in log_application:\n",
    "    accepted = False\n",
    "    for e in trace:\n",
    "        if \"O_ACCEPTED\" in e[\"concept:name\"]:\n",
    "            accepted = True\n",
    "        if \"O_CANCELLED\" in e[\"concept:name\"] and accepted:\n",
    "            traces.add(trace)\n",
    "    \n",
    "    offer_list = found_offers if len(found_offers) > len(offer_list) else offer_list\n",
    "    count = max(count, found_counts)\n",
    "\n",
    "for trace in traces:\n",
    "    for e in trace:\n",
    "        print(e[\"concept:name\"])\n",
    "    print(\"###\")"
   ]
  },
  {
   "cell_type": "code",
   "execution_count": 11,
   "metadata": {},
   "outputs": [
    {
     "name": "stdout",
     "output_type": "stream",
     "text": [
      "9333\n",
      "{'A_DECLINED': 7021, 'A_CANCELLED': 1863, 'A_APPROVED': 294, 'unclass': 155}\n",
      "9333\n"
     ]
    }
   ],
   "source": [
    "counts  ={\"A_DECLINED\":0, \"A_CANCELLED\":0, \"A_APPROVED\":0, \"unclass\": 0}\n",
    "for trace in filtered_log:\n",
    "    found = False\n",
    "    for k in list(counts.keys()):\n",
    "        if contains(trace, k):\n",
    "            assert(not found)\n",
    "            found = True\n",
    "            counts[k] += 1\n",
    "    if not found:\n",
    "        counts[\"unclass\"] += 1\n",
    "print(len(filtered_log))\n",
    "print(counts)\n",
    "print(sum([counts[k] for k in counts.keys()])) "
   ]
  },
  {
   "cell_type": "code",
   "execution_count": 12,
   "metadata": {},
   "outputs": [
    {
     "name": "stdout",
     "output_type": "stream",
     "text": [
      "13087\n",
      "{'A_DECLINED': 7635, 'A_CANCELLED': 2807, 'A_APPROVED': 2246, 'unclass': 399}\n",
      "13087\n"
     ]
    }
   ],
   "source": [
    "# Confirm findings from report on declined, cancelled, approved and unclassified traces.\n",
    "counts  ={\"A_DECLINED\":0, \"A_CANCELLED\":0, \"A_APPROVED\":0, \"unclass\": 0}\n",
    "for trace in log_application:\n",
    "    found = False\n",
    "    for k in list(counts.keys()):\n",
    "        if contains(trace, k):\n",
    "            assert(not found)\n",
    "            found = True\n",
    "            counts[k] += 1\n",
    "    if not found:\n",
    "        counts[\"unclass\"] += 1\n",
    "\n",
    "print(\"Different outcomes:\", counts)\n",
    "print(\"Number of events\",len(log_application) ,\" number of accounted outcomes\", sum([counts[k] for k in counts.keys()]))"
   ]
  },
  {
   "cell_type": "code",
   "execution_count": 13,
   "metadata": {},
   "outputs": [],
   "source": [
    "# Transform log into list format, log is represented as list of lists, easier removal and insertion of single events.\n",
    "def log_to_list(log):\n",
    "    transformed_log = []\n",
    "    for trace in log:\n",
    "        current_trace = []\n",
    "        for event in trace:\n",
    "            event['case:concept:name'] = trace.attributes['concept:name']\n",
    "            current_trace.append(event)\n",
    "        current_trace.insert(0, {\"concept:name\": \"start\", 'case:concept:name':trace.attributes['concept:name'], 'time:timestamp': trace[0]['time:timestamp']}) #insert start event\n",
    "        transformed_log.append(current_trace)\n",
    "    return transformed_log\n",
    "\n",
    "list_log_application = log_to_list(log_application)"
   ]
  },
  {
   "cell_type": "code",
   "execution_count": 14,
   "metadata": {},
   "outputs": [],
   "source": [
    "# Only cancelled and approved events are kept in the log, Final events are appended.\n",
    "def filter_incomplete_traces(log):\n",
    "    transformed_log = []\n",
    "    outcomes = [\"A_CANCELLED\", \"A_APPROVED\"] # \"A_DECLINED\",\n",
    "    for trace in log:\n",
    "        trace_copy = copy.deepcopy(trace)\n",
    "        contained = False\n",
    "        for o in outcomes:\n",
    "            if contains(trace, o):\n",
    "                contained = True\n",
    "        if contained:\n",
    "            if contains(trace, \"A_CANCELLED\"):\n",
    "                trace_copy.append({'concept:name': \"negative\", 'time:timestamp': trace[-1]['time:timestamp'], 'case:concept:name': trace[0]['case:concept:name']})\n",
    "            if contains(trace, \"A_APPROVED\"):\n",
    "                trace_copy.append({'concept:name': \"positive\", 'time:timestamp': trace[-1]['time:timestamp'], 'case:concept:name': trace[0]['case:concept:name']})\n",
    "            assert(contains(trace_copy, \"negative\") or contains(trace_copy, \"positive\"))\n",
    "            transformed_log.append(trace_copy)\n",
    "    return transformed_log\n",
    "\n",
    "list_log_application = filter_incomplete_traces(list_log_application)"
   ]
  },
  {
   "cell_type": "code",
   "execution_count": 15,
   "metadata": {},
   "outputs": [
    {
     "name": "stdout",
     "output_type": "stream",
     "text": [
      "3319\n"
     ]
    }
   ],
   "source": [
    "def variants(log):\n",
    "    element_list = []\n",
    "    for trace in log:\n",
    "        new_trace = [k[\"concept:name\"] for k in trace]\n",
    "        element_list.append(new_trace)\n",
    "    print(len(Counter(str(e) for e in element_list).keys()))\n",
    "\n",
    "print(\"Variants before removing trivial elements\")\n",
    "variants(list_log_application)"
   ]
  },
  {
   "cell_type": "code",
   "execution_count": 16,
   "metadata": {},
   "outputs": [
    {
     "data": {
      "text/plain": [
       "(array([2.387e+03, 1.293e+03, 1.224e+03, 7.600e+01, 5.600e+01, 1.200e+01,\n",
       "        4.000e+00, 0.000e+00, 0.000e+00, 1.000e+00]),\n",
       " array([  0. ,  13.7,  27.4,  41.1,  54.8,  68.5,  82.2,  95.9, 109.6,\n",
       "        123.3, 137. ]),\n",
       " <BarContainer object of 10 artists>)"
      ]
     },
     "execution_count": 16,
     "metadata": {},
     "output_type": "execute_result"
    },
    {
     "data": {
      "image/png": "[encoded data removed]",
      "text/plain": [
       "<Figure size 432x288 with 1 Axes>"
      ]
     },
     "metadata": {
      "needs_background": "light"
     },
     "output_type": "display_data"
    }
   ],
   "source": [
    "trace_durations = []\n",
    "for trace in list_log_application:\n",
    "    trace_durations.append((trace[-2]['time:timestamp']-trace[1]['time:timestamp']).days)\n",
    "plt.hist(trace_durations)"
   ]
  },
  {
   "cell_type": "code",
   "execution_count": 17,
   "metadata": {},
   "outputs": [],
   "source": [
    "\n",
    "\n",
    "DURATION_THRESHOLD = 60\n",
    "TIMEOUT_THRESHOLD = 10\n",
    "\n",
    "# Filter events from log and compute durations of single calls\n",
    "def adjust_durations(log):\n",
    "    transformed_log = []\n",
    "    for trace in log:\n",
    "        new_trace  = []\n",
    "        for i in range(len(trace)):\n",
    "            if \"W_Nabellen\" in trace[i]['concept:name']: # omits SCHEDULE and COMPLETE call events\n",
    "                if trace[i]['lifecycle:transition']==\"START\":\n",
    "                    found = False\n",
    "                    duration = 0\n",
    "                    j = i\n",
    "                    while not found:\n",
    "                        j = j+1\n",
    "                        if j >= len(trace):\n",
    "                            for e in trace:\n",
    "                                print(e[\"concept:name\"], e['lifecycle:transition'])\n",
    "                        assert(j < len(trace))\n",
    "                        if trace[j]['concept:name'] == trace[i]['concept:name']:\n",
    "                            assert(trace[j]['lifecycle:transition'] != \"START\")\n",
    "                            if  trace[j]['lifecycle:transition']==\"COMPLETE\":\n",
    "                                found = True\n",
    "                                duration = (trace[j]['time:timestamp']-trace[i]['time:timestamp']).total_seconds()\n",
    "                        \n",
    "                    if duration > DURATION_THRESHOLD:\n",
    "                        if new_trace[-1][\"concept:name\"] == trace[i]['concept:name']: # merge call times together\n",
    "                            new_trace[-1][\"duration\"] += duration\n",
    "                        else:\n",
    "                            new_element = copy.deepcopy(trace[i])\n",
    "                            new_element[\"duration\"] = duration\n",
    "                            new_trace.append(new_element)\n",
    "            if trace[i]['concept:name'] == \"A_Cancelled\": #differentiate between user_abort and timeout\n",
    "                new_element = copy.deepcopy(trace[i])\n",
    "                if (trace[i]['time:timestamp']-trace[i-1]['time:timestamp']).days >= TIMEOUT_THRESHOLD or (trace[i]['time:timestamp']-trace[i-2]['time:timestamp']).days >= TIMEOUT_THRESHOLD :\n",
    "                    new_element[-1]['concept:name'] = \"TIMEOUT\"\n",
    "                    assert(False) # no timeouts detected before cancellation\n",
    "                else:\n",
    "                    new_element[-1]['concept:name'] += \" CUSTOMER\"\n",
    "                new_trace.append(new_element)\n",
    "            else:\n",
    "                if \"W_\" in trace[i]['concept:name']:  # skip other workflow elements\n",
    "                    continue\n",
    "                if \"O_SELECTED\" in trace[i]['concept:name']:\n",
    "                    continue\n",
    "                if \"O_SENT\" in trace[i]['concept:name'] and \"BACK\" not in trace[i]['concept:name']: # skip sent event, but not send_back\n",
    "                    continue\n",
    "                elif \"O_DECLINED\" in trace[i]['concept:name'] or \"A_PARTLYSUBMITTED\" in trace[i]['concept:name']: # skip trivial elements\n",
    "                    continue\n",
    "                else:\n",
    "                    new_trace.append(trace[i])\n",
    "\n",
    "        transformed_log.append(new_trace)\n",
    "    return transformed_log\n",
    "\n",
    "list_log_application = adjust_durations(list_log_application)"
   ]
  },
  {
   "cell_type": "code",
   "execution_count": 18,
   "metadata": {},
   "outputs": [
    {
     "name": "stdout",
     "output_type": "stream",
     "text": [
      "5053\n"
     ]
    }
   ],
   "source": [
    "# Function to merge the 4 events present in successful logs: A_APPROVED, O_ACCEPTED, A_ACTIVATED and A_REGISTERED\n",
    "def merge_successful(log):\n",
    "    transformed_log = []\n",
    "    for trace in log:\n",
    "        if contains(trace, \"A_APPROVED\"):\n",
    "            modified_trace = copy.deepcopy(trace)\n",
    "\n",
    "            for j in range(len(modified_trace)):\n",
    "                if modified_trace[j][\"concept:name\"] == \"O_ACCEPTED\":\n",
    "                    modified_trace.pop(j)\n",
    "                    break\n",
    "\n",
    "            for j in range(len(modified_trace)):\n",
    "                if modified_trace[j][\"concept:name\"] == \"A_ACTIVATED\":\n",
    "                    modified_trace.pop(j)\n",
    "                    break\n",
    "            \n",
    "            for j in range(len(modified_trace)):\n",
    "                if modified_trace[j][\"concept:name\"] == \"A_REGISTERED\":\n",
    "                    modified_trace.pop(j)\n",
    "                    break\n",
    "            \n",
    "            transformed_log.append(modified_trace)\n",
    "\n",
    "        else:\n",
    "            transformed_log.append(trace)\n",
    "    return transformed_log\n",
    "\n",
    "list_log_application = merge_successful(list_log_application)"
   ]
  },
  {
   "cell_type": "code",
   "execution_count": 19,
   "metadata": {},
   "outputs": [
    {
     "name": "stdout",
     "output_type": "stream",
     "text": [
      "202\n",
      "127\n"
     ]
    }
   ],
   "source": [
    "print(\"Variants after removing trivial events\")\n",
    "variants(list_log_application)"
   ]
  },
  {
   "cell_type": "code",
   "execution_count": 20,
   "metadata": {},
   "outputs": [
    {
     "data": {
      "image/png": "[encoded data removed]",
      "text/plain": [
       "<Figure size 432x288 with 1 Axes>"
      ]
     },
     "metadata": {
      "needs_background": "light"
     },
     "output_type": "display_data"
    },
    {
     "data": {
      "image/png": "[encoded data removed]",
      "text/plain": [
       "<Figure size 432x288 with 1 Axes>"
      ]
     },
     "metadata": {
      "needs_background": "light"
     },
     "output_type": "display_data"
    }
   ],
   "source": [
    "# investigate response times\n",
    "response_times = {}\n",
    "for trace in list_log_application:\n",
    "    for e in trace:\n",
    "        if \"W_Nabellen\" in e['concept:name']:\n",
    "            if e['concept:name'] not in response_times:\n",
    "                response_times[e['concept:name']] = []\n",
    "            response_times[e['concept:name']].append(e['duration'])\n",
    "plt.hist(response_times['W_Nabellen offertes'], 20)\n",
    "plt.show()\n",
    "plt.hist(response_times['W_Nabellen incomplete dossiers'], 20)\n",
    "plt.show()"
   ]
  },
  {
   "cell_type": "code",
   "execution_count": 21,
   "metadata": {},
   "outputs": [
    {
     "name": "stdout",
     "output_type": "stream",
     "text": [
      "start\n",
      "A_SUBMITTED\n",
      "A_PREACCEPTED\n",
      "A_ACCEPTED\n",
      "A_FINALIZED\n",
      "O_CREATED0\n",
      "W_Nabellen offertes\n",
      "O_SENT_BACK\n",
      "A_APPROVED\n",
      "positive\n",
      "####\n",
      "[[  504.99044278]\n",
      " [72657.76337266]\n",
      " [ 2495.06339523]]\n",
      "plotted 504.99044277799914 4154.0\n",
      "plotted 72657.76337266467 4154.0\n",
      "plotted 2495.0633952310777 4154.0\n"
     ]
    },
    {
     "data": {
      "image/png": "[encoded data removed]",
      "text/plain": [
       "<Figure size 432x288 with 1 Axes>"
      ]
     },
     "metadata": {
      "needs_background": "light"
     },
     "output_type": "display_data"
    },
    {
     "name": "stdout",
     "output_type": "stream",
     "text": [
      "[[ 1088.55185442]\n",
      " [75929.257556  ]\n",
      " [ 5969.4574963 ]]\n",
      "plotted 1088.5518544189783 1538.0\n",
      "plotted 75929.2575560023 1538.0\n",
      "plotted 5969.457496295627 1538.0\n"
     ]
    },
    {
     "data": {
      "image/png": "[encoded data removed]",
      "text/plain": [
       "<Figure size 432x288 with 1 Axes>"
      ]
     },
     "metadata": {
      "needs_background": "light"
     },
     "output_type": "display_data"
    },
    {
     "name": "stdout",
     "output_type": "stream",
     "text": [
      "start\n",
      "A_SUBMITTED\n",
      "A_PREACCEPTED\n",
      "A_ACCEPTED\n",
      "A_FINALIZED\n",
      "O_CREATED0\n",
      "W_Nabellen offertes#0\n",
      "O_SENT_BACK\n",
      "A_APPROVED\n",
      "positive\n"
     ]
    }
   ],
   "source": [
    "\n",
    "\n",
    "# Cluster call events based on call durations by Bayesian-Gaussian mixture clustering\n",
    "def get_bayesian_gaussian_mixture(components, times):\n",
    "    duration_classifier = {}\n",
    "    for t in times:\n",
    "        if len(times[t])==1:\n",
    "            g = mixture.BayesianGaussianMixture(n_components=1,covariance_type='full')\n",
    "            g.fit(np.array([[times[t]], [times[t]]]).reshape(-1, 1))\n",
    "            duration_classifier[t] = g\n",
    "            continue\n",
    "        \n",
    "        g = mixture.BayesianGaussianMixture(n_components=components,covariance_type='full', random_state=42)\n",
    "        g.fit(np.array(times[t]).reshape(-1,1))\n",
    "        weights = g.weights_\n",
    "        means = g.means_\n",
    "        covars = g.covariances_\n",
    "        print(means)\n",
    "        counts, bins, bars = plt.hist(times[t])\n",
    "        for m in means:\n",
    "            print(\"plotted\", m[0], max(counts))\n",
    "            plt.plot([m[0],m[0]], [0,max(counts)], c = \"red\")\n",
    "        plt.show()\n",
    "        duration_classifier[t] = g\n",
    "    return duration_classifier\n",
    "\n",
    "def classify_log(log, predictor):\n",
    "    log = copy.deepcopy(log)\n",
    "    for trace in log:\n",
    "        for pos in range(1,len(trace)):\n",
    "            action = trace[pos][\"concept:name\"]\n",
    "            if \"W_Nabellen\" not in action:\n",
    "                continue\n",
    "            assert(\"duration\" in trace[pos])\n",
    "            duration = trace[pos][\"duration\"]\n",
    "            suffix = str(predictor[action].predict(np.array(duration).reshape(1,-1))[0])\n",
    "            assert(int(suffix) in list(range(0,100)))\n",
    "            trace[pos][\"concept:name\"] += \"#\"+suffix\n",
    "\n",
    "    return log\n",
    "\n",
    "for e in list_log_application[0]:\n",
    "    print(e[\"concept:name\"])\n",
    "print(\"####\")    \n",
    "\n",
    "predictor = get_bayesian_gaussian_mixture(CLUSTER_COMPONENTS, response_times)\n",
    "list_log_application = classify_log(list_log_application, predictor)\n",
    "\n",
    "for e in list_log_application[0]:\n",
    "    print(e[\"concept:name\"])"
   ]
  },
  {
   "attachments": {},
   "cell_type": "markdown",
   "metadata": {},
   "source": [
    "# Log Properties\n",
    "We investigate certain log properties differentiating the BPIC'17 event log from the BPIC'12 event log.\n",
    "It shows that not only the aver number of calls but also the average number of generated offers were significantly changed."
   ]
  },
  {
   "cell_type": "code",
   "execution_count": 22,
   "metadata": {},
   "outputs": [
    {
     "name": "stdout",
     "output_type": "stream",
     "text": [
      "pos {'W_Nabellen incomplete': 0.6282279608192342, 'W_Nabellen offertes': 1.0031166518254675}\n",
      "neg {'W_Nabellen incomplete': 0.05949412183826149, 'W_Nabellen offertes': 0.7011043819023869}\n",
      "bot {'W_Nabellen incomplete': 0.3122897288739363, 'W_Nabellen offertes': 0.8353453394023352}\n"
     ]
    }
   ],
   "source": [
    "# investigate avg. number of calls in trace\n",
    "counts_positive = {\"W_Nabellen incomplete\" : 0, \"W_Nabellen offertes\":0}\n",
    "pos_count = 0\n",
    "for trace in list_log_application:\n",
    "    if contains(trace, \"positive\") :\n",
    "        pos_count += 1\n",
    "        for e in trace:\n",
    "            if \"W_Nabellen incomplete\" in e['concept:name']:\n",
    "                counts_positive[\"W_Nabellen incomplete\"] += 1\n",
    "            if \"W_Nabellen offertes\" in e['concept:name']:\n",
    "                counts_positive['W_Nabellen offertes'] += 1\n",
    "\n",
    "counts_negative = {\"W_Nabellen incomplete\" : 0, \"W_Nabellen offertes\":0}\n",
    "neg_count = 0\n",
    "for trace in list_log_application:\n",
    "    if contains(trace, \"negative\") :\n",
    "        neg_count += 1\n",
    "        for e in trace:\n",
    "            if \"W_Nabellen incomplete\" in e['concept:name']:\n",
    "                counts_negative[\"W_Nabellen incomplete\"] += 1\n",
    "            if \"W_Nabellen offertes\" in e['concept:name']:\n",
    "                counts_negative['W_Nabellen offertes'] += 1\n",
    "\n",
    "both = {\"W_Nabellen incomplete\" : 0, \"W_Nabellen offertes\":0}\n",
    "for k in counts_positive:\n",
    "    both[k] = (counts_negative[k] + counts_positive[k])/(neg_count+pos_count)\n",
    "\n",
    "for k in counts_positive:\n",
    "    counts_positive[k] /= pos_count\n",
    "for k in counts_negative:\n",
    "    counts_negative[k] /= neg_count\n",
    "\n",
    "\n",
    "print(\"Average number of calls in successful journeys\", counts_positive)\n",
    "print(\"Average number of calls in unsuccessful journeys\", counts_negative)\n",
    "print(\"Average number of calls in all journeys\", both)"
   ]
  },
  {
   "cell_type": "code",
   "execution_count": 23,
   "metadata": {},
   "outputs": [
    {
     "name": "stdout",
     "output_type": "stream",
     "text": [
      "1.4804096170970615\n",
      "0.7759173494834343\n",
      "1.0890560063328716\n"
     ]
    }
   ],
   "source": [
    "# Investigate the average number of created offers\n",
    "counts_pos = []\n",
    "counts_neg = []\n",
    "for trace in list_log_application:\n",
    "    count = 0\n",
    "    if contains(trace, \"positive\") :\n",
    "        for e in trace:\n",
    "            if \"O_CREATED\" in e['concept:name']:\n",
    "                count += 1\n",
    "        counts_pos.append(count)\n",
    "    if contains(trace, \"negative\") :\n",
    "        for e in trace:\n",
    "            if \"O_CREATED\" in e['concept:name']:\n",
    "                count += 1\n",
    "        counts_neg.append(count)\n",
    "print(\"Average number of created offers in successful journeys\", sum(counts_pos)/len(counts_pos))\n",
    "print(\"Average number of created offers in unsuccessful journeys\", sum(counts_neg)/len(counts_neg))\n",
    "\n",
    "counts = []\n",
    "for trace in list_log_application:\n",
    "    count = 0\n",
    "    for e in trace:\n",
    "        if \"O_CREATED\" in e['concept:name']:\n",
    "            count += 1\n",
    "    counts.append(count)\n",
    "print(\"Average number of created offers in all journeys\", sum(counts)/len(counts))"
   ]
  },
  {
   "cell_type": "code",
   "execution_count": 25,
   "metadata": {},
   "outputs": [
    {
     "name": "stderr",
     "output_type": "stream",
     "text": [
      "exporting log, completed traces :: 100%|██████████| 5053/5053 [00:01<00:00, 4315.68it/s]\n"
     ]
    }
   ],
   "source": [
    "# export the log for easier further analysis\n",
    "def export(log, path):\n",
    "    # to use the pm4py write_xes function, an pm4py event log object is needed.\n",
    "    # for this is the list event log via the pandas data frame to a pm4py event log converted.\n",
    "    log_df = pd.DataFrame()\n",
    "    for trace in log:\n",
    "        assert(trace[0][\"concept:name\"]==\"start\")\n",
    "        assert(contains(trace, \"negative\") or contains(trace, \"positive\"))\n",
    "        log_df = log_df.append(trace, ignore_index=True)\n",
    "\n",
    "    event_log = pm4py.convert_to_event_log(log_df)\n",
    "    pm4py.write_xes(event_log, path+\".xes\") \n",
    "\n",
    "export(list_log_application, \"/home/paul/Documents/bpi_games/bpi2012\")"
   ]
  },
  {
   "cell_type": "code",
   "execution_count": 26,
   "metadata": {},
   "outputs": [
    {
     "name": "stderr",
     "output_type": "stream",
     "text": [
      "parsing log, completed traces :: 100%|██████████| 5053/5053 [00:01<00:00, 3181.32it/s]\n"
     ]
    }
   ],
   "source": [
    "import_log = xes_importer.apply(\"/home/paul/Documents/bpi_games/bpi2012.xes\")"
   ]
  },
  {
   "cell_type": "code",
   "execution_count": 27,
   "metadata": {},
   "outputs": [],
   "source": [
    "for trace_index in range(len(import_log)):\n",
    "    trace = import_log[trace_index]\n",
    "    if trace[0]['concept:name']!=\"start\":\n",
    "        for e in trace:\n",
    "            print(e['concept:name'])\n",
    "    assert(trace[0]['concept:name']==\"start\")"
   ]
  },
  {
   "cell_type": "code",
   "execution_count": 28,
   "metadata": {},
   "outputs": [
    {
     "name": "stderr",
     "output_type": "stream",
     "text": [
      "parsing log, completed traces :: 100%|██████████| 5053/5053 [00:01<00:00, 2835.02it/s]\n"
     ]
    },
    {
     "name": "stdout",
     "output_type": "stream",
     "text": [
      "size in sequence 215\n"
     ]
    },
    {
     "name": "stderr",
     "output_type": "stream",
     "text": [
      "parsing log, completed traces :: 100%|██████████| 5053/5053 [00:01<00:00, 2861.68it/s]\n"
     ]
    },
    {
     "name": "stdout",
     "output_type": "stream",
     "text": [
      "size in multiset 154\n"
     ]
    }
   ],
   "source": [
    "# investigate size of models\n",
    "output = subprocess.check_output([\"python3\", \"cli/process_model.py\", \"/home/paul/Documents/bpi_games/bpi2012.xes\", \"cli/\", \"-t\", \"sequence\", \"-hist\" , \"5\"])\n",
    "file_name = str(output).replace(\"\\\\n'\", '').split(\"Generated: \")[-1]\n",
    "output = subprocess.check_output([\"python3\", \"cli/build_game.py\", file_name, \"cli/\", \"activities2012.xml\"])\n",
    "file_name = str(output).replace(\"\\\\n'\", '').split(\"Generated: \")[-1]\n",
    "output = subprocess.check_output([\"python3\", \"cli/decision_boundary.py\", file_name, \"cli/\", \"/home/paul/Downloads/uppaal-4.1.20-stratego-9-linux64/bin/verifyta\", \"-q\", \"cli/guaranteed_tool.q\"])\n",
    "file_name = str(output).replace(\"\\\\n'\", '').split(\"Generated: \")[-1]\n",
    "output = subprocess.check_output([\"python3\", \"cli/decision_boundary_reduction.py\", file_name,\"./\"])\n",
    "file_name = str(output).replace(\"\\\\n'\", '').split(\"Generated: \")[-1]\n",
    "g_dec_boundary = nx.read_gexf(file_name)\n",
    "print(\"size in sequence\", len(g_dec_boundary.nodes))\n",
    "\n",
    "output = subprocess.check_output([\"python3\", \"cli/process_model.py\", \"/home/paul/Documents/bpi_games/bpi2012.xes\", \"cli/\", \"-t\", \"multiset\", \"-hist\" , \"5\"])\n",
    "file_name = str(output).replace(\"\\\\n'\", '').split(\"Generated: \")[-1]\n",
    "output = subprocess.check_output([\"python3\", \"cli/build_game.py\", file_name, \"cli/\", \"activities2012.xml\"])\n",
    "file_name = str(output).replace(\"\\\\n'\", '').split(\"Generated: \")[-1]\n",
    "output = subprocess.check_output([\"python3\", \"cli/decision_boundary.py\", file_name, \"cli/\", \"/home/paul/Downloads/uppaal-4.1.20-stratego-9-linux64/bin/verifyta\", \"-q\", \"cli/guaranteed_tool.q\"])\n",
    "file_name = str(output).replace(\"\\\\n'\", '').split(\"Generated: \")[-1]\n",
    "output = subprocess.check_output([\"python3\", \"cli/decision_boundary_reduction.py\", file_name,\"./\"])\n",
    "file_name = str(output).replace(\"\\\\n'\", '').split(\"Generated: \")[-1]\n",
    "g_dec_boundary = nx.read_gexf(file_name)\n",
    "print(\"size in multiset\", len(g_dec_boundary.nodes))"
   ]
  },
  {
   "attachments": {},
   "cell_type": "markdown",
   "metadata": {},
   "source": [
    "# Process Model Construction\n",
    "The process model is build with the published decision boundary tool.\n",
    "We iterate over different settings to find the most promising one.\n",
    "The final model uses the muli-set abstraction with a history of 5."
   ]
  },
  {
   "cell_type": "code",
   "execution_count": 32,
   "metadata": {},
   "outputs": [
    {
     "name": "stderr",
     "output_type": "stream",
     "text": [
      "parsing log, completed traces :: 100%|██████████| 5053/5053 [00:01<00:00, 2828.58it/s]\n",
      "parsing log, completed traces :: 100%|██████████| 5053/5053 [00:01<00:00, 2861.29it/s]\n",
      "parsing log, completed traces :: 100%|██████████| 5053/5053 [00:01<00:00, 2818.73it/s]\n",
      "parsing log, completed traces :: 100%|██████████| 5053/5053 [00:01<00:00, 2822.78it/s]\n",
      "parsing log, completed traces :: 100%|██████████| 5053/5053 [00:01<00:00, 2852.72it/s]\n",
      "parsing log, completed traces :: 100%|██████████| 5053/5053 [00:01<00:00, 2949.94it/s]\n",
      "parsing log, completed traces :: 100%|██████████| 5053/5053 [00:01<00:00, 2867.37it/s]\n",
      "parsing log, completed traces :: 100%|██████████| 5053/5053 [00:01<00:00, 2954.35it/s]\n"
     ]
    },
    {
     "name": "stdout",
     "output_type": "stream",
     "text": [
      "type multiset hist 3\n",
      "cycles: 175666 nodes: 177\n",
      "type multiset hist 4\n",
      "cycles: 51746 nodes: 316\n",
      "type multiset hist 5\n",
      "cycles: 2 nodes: 449\n",
      "type multiset hist 6\n",
      "cycles: 6 nodes: 560\n",
      "type sequence hist 3\n",
      "cycles: 3500 nodes: 254\n",
      "type sequence hist 4\n",
      "cycles: 94 nodes: 471\n",
      "type sequence hist 5\n",
      "cycles: 0 nodes: 706\n",
      "type sequence hist 6\n",
      "cycles: 0 nodes: 894\n"
     ]
    }
   ],
   "source": [
    "\n",
    "def compare(xes, activities, start = 3):\n",
    "    r = []\n",
    "    for type in [\"multiset\", \"sequence\"]:\n",
    "        print(\"Abstraction\", type)\n",
    "        for hist in range(start,7):\n",
    "            # use granular tool to build process models\n",
    "            o = subprocess.check_output([\"python3\", \"cli/process_model.py\", xes, \"cli/\", \"-t\", type, \"-hist\" , str(hist)])\n",
    "            f = str(o).replace(\"\\\\n'\", '').split(\"Generated: \")[-1]\n",
    "            o = subprocess.check_output([\"python3\", \"cli/build_game.py\", f, \"cli/\", activities])\n",
    "            f = str(o).replace(\"\\\\n'\", '').split(\"Generated: \")[-1]\n",
    "            inner_graph = nx.read_gexf(f)\n",
    "            r.append(\"History: \", str(hist), \" Loops: \"+str(len(list(nx.simple_cycles(inner_graph)))) + \" Nodes: \" +str(len(inner_graph.nodes())))\n",
    "    return r\n",
    "\n",
    "for e in compare(\"/home/paul/Documents/bpi_games/bpi2012.xes\", \"activities2012.xml\"):\n",
    "    print(e)"
   ]
  },
  {
   "attachments": {},
   "cell_type": "markdown",
   "metadata": {},
   "source": [
    "# Decision Boundary Analysis\n",
    "The decision boundary of the process model with the multi-set abstraction and history of 5 is analysed.\n",
    "In the accompanying paper we compare the properties of the BPIC'12 decision boundary with the ones from BPIC'17."
   ]
  },
  {
   "cell_type": "code",
   "execution_count": null,
   "metadata": {},
   "outputs": [],
   "source": [
    "#  Build process model\n",
    "output = subprocess.check_output([\"python3\", \"cli/process_model.py\", \"/home/paul/Documents/bpi_games/bpi2012.xes\", \"cli/\", \"-t\", \"multiset\", \"-hist\" , \"5\"])\n",
    "file_name = str(output).replace(\"\\\\n'\", '').split(\"Generated: \")[-1]\n",
    "# Build user journey game\n",
    "output = subprocess.check_output([\"python3\", \"cli/build_game.py\", file_name, \"cli/\", \"activities2012.xml\"])\n",
    "file_name = str(output).replace(\"\\\\n'\", '').split(\"Generated: \")[-1]\n",
    "g = nx.read_gexf(file_name)"
   ]
  },
  {
   "cell_type": "code",
   "execution_count": 35,
   "metadata": {},
   "outputs": [
    {
     "name": "stdout",
     "output_type": "stream",
     "text": [
      "Plotted bpi2012.ps\n"
     ]
    }
   ],
   "source": [
    "def draw_dfg(g, name, layout = \"sfdp\"):\n",
    "    A = to_agraph(g)\n",
    "    edge_weights = nx.get_edge_attributes(g,'cost')\n",
    "    scaling = 10\n",
    "    for e in edge_weights:\n",
    "        e = A.get_edge(e[0], e[1])\n",
    "        #e.attr[\"penwidth\"] = edge_weights[e]*scaling\n",
    "        e.attr[\"fontsize\"] = \"20\"\n",
    "        e.attr[\"label\"] = edge_weights[e]\n",
    "    for e in g.edges:\n",
    "        if 'controllable' in g[e[0]][e[1]]:\n",
    "            if not g[e[0]][e[1]]['controllable']:\n",
    "                edge = A.get_edge(e[0], e[1])\n",
    "                edge.attr[\"style\"] = \"dotted\"\n",
    "\n",
    "    for s in g.nodes:\n",
    "        if \"decision_boundary\" in g.nodes[s]:\n",
    "            if g.nodes[s][\"decision_boundary\"]:\n",
    "                g.nodes[s]['color'] = \"blue\"\n",
    "    A.write(name.split(\".\")[0]+\".dot\")\n",
    "    A.layout(layout)\n",
    "    print(\"Plotted\", name)\n",
    "    A.draw(name)\n",
    "\n",
    "# plot process model for analysis\n",
    "if SAVE_ELEMENTS:\n",
    "    draw_dfg(g, \"bpi2012.ps\", \"dot\")  "
   ]
  },
  {
   "cell_type": "code",
   "execution_count": 37,
   "metadata": {},
   "outputs": [],
   "source": [
    "# construct decision boundary\n",
    "output = subprocess.check_output([\"python3\", \"cli/decision_boundary.py\", file_name, \"cli/\", \"/home/paul/Downloads/uppaal-4.1.20-stratego-9-linux64/bin/verifyta\", \"-q\", \"cli/guaranteed_tool.q\"])\n",
    "file_name = str(output).replace(\"\\\\n'\", '').split(\"Generated: \")[-1]"
   ]
  },
  {
   "cell_type": "code",
   "execution_count": 38,
   "metadata": {},
   "outputs": [],
   "source": [
    "# apply reduction\n",
    "output = subprocess.check_output([\"python3\", \"cli/decision_boundary_reduction.py\", file_name,\"./\"])\n",
    "file_name = str(output).replace(\"\\\\n'\", '').split(\"Generated: \")[-1]"
   ]
  },
  {
   "cell_type": "code",
   "execution_count": 40,
   "metadata": {},
   "outputs": [
    {
     "name": "stdout",
     "output_type": "stream",
     "text": [
      "Plotted bpi2012_dec.ps\n"
     ]
    }
   ],
   "source": [
    "# plot reduced decision boundary\n",
    "if SAVE_ELEMENTS:\n",
    "    draw_dfg(g_dec_boundary, \"bpi2012_dec.ps\", \"dot\")  "
   ]
  },
  {
   "cell_type": "code",
   "execution_count": 41,
   "metadata": {},
   "outputs": [
    {
     "name": "stdout",
     "output_type": "stream",
     "text": [
      "{\"A_FINALIZED\": 1, \"O_CREATED0\": 1, \"O_SENT_BACK\": 1, \"W_Nabellen incomplete dossiers#1\": 1, \"W_Nabellen offertes#0\": 1}\n",
      "{\"O_CANCELLED\": 2, \"O_CREATED4\": 1, \"W_Nabellen offertes#0\": 1, \"W_Nabellen offertes#2\": 1}\n",
      "{\"A_ACCEPTED\": 1, \"A_FINALIZED\": 1, \"O_CREATED0\": 1, \"O_SENT_BACK\": 1, \"W_Nabellen incomplete dossiers#1\": 1}\n",
      "{\"O_CANCELLED\": 1, \"O_CREATED2\": 1, \"O_SENT_BACK\": 1, \"W_Nabellen incomplete dossiers#0\": 1, \"W_Nabellen incomplete dossiers#2\": 1}\n",
      "{\"O_CANCELLED\": 1, \"O_CREATED2\": 1, \"O_SENT_BACK\": 2, \"W_Nabellen incomplete dossiers#2\": 1}\n",
      "{\"O_CANCELLED\": 2, \"O_CREATED5\": 1, \"W_Nabellen incomplete dossiers#0\": 2}\n",
      "{\"O_CANCELLED\": 1, \"O_CREATED3\": 1, \"O_SENT_BACK\": 1, \"W_Nabellen incomplete dossiers#2\": 1, \"W_Nabellen offertes#0\": 1}\n",
      "{\"O_CANCELLED\": 2, \"O_CREATED4\": 1, \"W_Nabellen offertes#0\": 2}\n",
      "{\"O_CANCELLED\": 2, \"O_CREATED4\": 1, \"O_SENT_BACK\": 1, \"W_Nabellen offertes#0\": 1}\n",
      "states in decision boundary 9\n"
     ]
    }
   ],
   "source": [
    "# function to retreive decision boundary states from \n",
    "def get_dec_bound(g):\n",
    "    bound = []\n",
    "    for s in g.nodes:\n",
    "        if \"decision_boundary\" in g.nodes[s]:\n",
    "            if g.nodes[s][\"decision_boundary\"]:\n",
    "                bound.append(s)\n",
    "                print(s)\n",
    "    return bound\n",
    "\n",
    "bound = get_dec_bound(g_dec_boundary)\n",
    "print(\"States in decision boundary\", len(bound))"
   ]
  },
  {
   "cell_type": "code",
   "execution_count": 42,
   "metadata": {},
   "outputs": [
    {
     "name": "stdout",
     "output_type": "stream",
     "text": [
      "{\"O_CANCELLED\": 2, \"O_CREATED4\": 1, \"W_Nabellen offertes#0\": 1, \"W_Nabellen offertes#2\": 1}\n",
      "{\"O_CANCELLED\": 1, \"O_CREATED2\": 1, \"O_SENT_BACK\": 2, \"W_Nabellen incomplete dossiers#2\": 1}\n",
      "{\"O_CANCELLED\": 2, \"O_CREATED5\": 1, \"W_Nabellen incomplete dossiers#0\": 2}\n",
      "{\"O_CANCELLED\": 2, \"O_CREATED4\": 1, \"W_Nabellen offertes#0\": 2}\n",
      "{\"O_CANCELLED\": 2, \"O_CREATED4\": 1, \"O_SENT_BACK\": 1, \"W_Nabellen offertes#0\": 1}\n",
      "5\n"
     ]
    }
   ],
   "source": [
    "def count_states(bound,e):\n",
    "    counter = 0\n",
    "\n",
    "    for n in bound:\n",
    "        if e in n:\n",
    "            print(n)\n",
    "            counter += 1\n",
    "    print(counter)\n",
    "\n",
    "count_states(bound,\": 2\")\n",
    "\n",
    "for n in bound:\n",
    "    if \"W_Nabellen\" not in n:\n",
    "        print(n)"
   ]
  },
  {
   "cell_type": "code",
   "execution_count": 43,
   "metadata": {},
   "outputs": [],
   "source": [
    "# bound contains no element with no call (\"W_Nabellen\")\n",
    "for n in bound:\n",
    "    if \"W_Nabellen\" not in n:\n",
    "        print(n)"
   ]
  },
  {
   "cell_type": "code",
   "execution_count": 44,
   "metadata": {},
   "outputs": [
    {
     "name": "stdout",
     "output_type": "stream",
     "text": [
      "{\"O_CANCELLED\": 1, \"O_CREATED2\": 1, \"O_SENT_BACK\": 1, \"W_Nabellen incomplete dossiers#0\": 1, \"W_Nabellen incomplete dossiers#2\": 1}\n",
      "{\"O_CANCELLED\": 1, \"O_CREATED2\": 1, \"O_SENT_BACK\": 2, \"W_Nabellen incomplete dossiers#2\": 1}\n",
      "{\"O_CANCELLED\": 1, \"O_CREATED3\": 1, \"O_SENT_BACK\": 1, \"W_Nabellen incomplete dossiers#2\": 1, \"W_Nabellen offertes#0\": 1}\n",
      "\n",
      "{\"O_CANCELLED\": 2, \"O_CREATED4\": 1, \"W_Nabellen offertes#0\": 1, \"W_Nabellen offertes#2\": 1}\n",
      "{\"O_CANCELLED\": 2, \"O_CREATED5\": 1, \"W_Nabellen incomplete dossiers#0\": 2}\n",
      "{\"O_CANCELLED\": 2, \"O_CREATED4\": 1, \"W_Nabellen offertes#0\": 2}\n",
      "{\"O_CANCELLED\": 2, \"O_CREATED4\": 1, \"O_SENT_BACK\": 1, \"W_Nabellen offertes#0\": 1}\n",
      "\n",
      "{\"A_FINALIZED\": 1, \"O_CREATED0\": 1, \"O_SENT_BACK\": 1, \"W_Nabellen incomplete dossiers#1\": 1, \"W_Nabellen offertes#0\": 1}\n",
      "{\"A_ACCEPTED\": 1, \"A_FINALIZED\": 1, \"O_CREATED0\": 1, \"O_SENT_BACK\": 1, \"W_Nabellen incomplete dossiers#1\": 1}\n"
     ]
    }
   ],
   "source": [
    "print(\"States with one cancellations\")\n",
    "for n in bound:\n",
    "    if '\"O_CANCELLED\": 1' in n:\n",
    "        print(n)\n",
    "print()\n",
    "print(\"States with two cancellations\")\n",
    "for n in bound:\n",
    "    if '\"O_CANCELLED\": 2' in n:\n",
    "        print(n)\n",
    "print()\n",
    "print(\"States with no cancellations\")\n",
    "for n in bound:\n",
    "    if \"O_CANCELLED\" not in n:\n",
    "        print(n)"
   ]
  },
  {
   "cell_type": "code",
   "execution_count": 45,
   "metadata": {},
   "outputs": [],
   "source": [
    "def to_set(bound):\n",
    "    bounds = []\n",
    "    for n in bound:\n",
    "        b = {}\n",
    "        n = n.replace(\"{\",\"\")\n",
    "        n = n.replace(\"}\",\"\")\n",
    "        n = n.replace('\"',\"\")\n",
    "        n = n.replace(' ',\"\")\n",
    "        s = n.split(\",\")\n",
    "        for e in s:\n",
    "            s1 = e.split(\":\")\n",
    "            b[s1[0]] = int(s1[-1])\n",
    "        bounds.append(b)\n",
    "    return bounds\n",
    "bounds = to_set(bound)"
   ]
  },
  {
   "cell_type": "code",
   "execution_count": 46,
   "metadata": {},
   "outputs": [],
   "source": [
    "def dist(s,t):\n",
    "    not_contained = 0\n",
    "    for k in s:\n",
    "        if k not in t:\n",
    "            not_contained += 1\n",
    "        elif s[k] != t[k]:\n",
    "            not_contained += abs(s[k]-t[k])\n",
    "    return not_contained\n",
    "\n",
    "def build_dec_bound_graph(bounds):\n",
    "    g = nx.Graph()\n",
    "    for s in bounds:\n",
    "        g.add_node(str(s))\n",
    "    for s in bounds:\n",
    "        for t in bounds:\n",
    "            if s == t:\n",
    "                continue\n",
    "            if dist(s,t) <= 1:\n",
    "                g.add_edge(str(s),str(t))\n",
    "    return g\n",
    "g = build_dec_bound_graph(bounds)"
   ]
  },
  {
   "cell_type": "code",
   "execution_count": 47,
   "metadata": {},
   "outputs": [],
   "source": [
    "def cluster_contains(c, s):\n",
    "    for e in c:\n",
    "        if s not in e:\n",
    "            return False\n",
    "    return True\n",
    "\n",
    "def analyse_decision_boundary(file_name, name):\n",
    "    g_dec_boundary = nx.read_gexf(file_name)\n",
    "    bound = get_dec_bound(g_dec_boundary)\n",
    "    bounds = to_set(bound)\n",
    "    g = build_dec_bound_graph(bounds)\n",
    "\n",
    "    A = to_agraph(g)\n",
    "\n",
    "    count = 0\n",
    "    for c in nx.connected_components(g):\n",
    "        print(list(c)[0])\n",
    "        print(len(c))\n",
    "\n",
    "        label = \"0\" if not cluster_contains(c,\"O_CANCELLED\") else \"1\" if cluster_contains(c,\"'O_CANCELLED': 1\") else \"2\"\n",
    "        \n",
    "        if label == \"0\":\n",
    "            assert(not cluster_contains(c,\"'O_CANCELLED': 1\"))\n",
    "            assert(not cluster_contains(c,\"'O_CANCELLED': 2\"))\n",
    "\n",
    "        if label == \"1\":\n",
    "            assert(not cluster_contains(c,\"'O_CANCELLED': 2\"))\n",
    "\n",
    "        if label == \"2\":\n",
    "            assert(not cluster_contains(c,\"'O_CANCELLED': 1\"))\n",
    "\n",
    "        colors = [\"blue\", \"red\", \"orange\"]\n",
    "        A.add_subgraph(c, name='cluster_'+str(count), label= \"#\"+label, color = colors[int(label)], fontsize = 60, fontcolor = colors[int(label)])\n",
    "\n",
    "        count+=1\n",
    "\n",
    "    for n in A.nodes():\n",
    "        n.attr['penwidth'] = 5\n",
    "        n.attr[\"label\"] = \"\"\n",
    "\n",
    "    A.layout(\"dot\")\n",
    "    print(\"Plotted\", name)\n",
    "    A.draw(name)\n",
    "    \n",
    "    nx.draw(g, node_size=80)"
   ]
  },
  {
   "cell_type": "code",
   "execution_count": 48,
   "metadata": {},
   "outputs": [
    {
     "name": "stdout",
     "output_type": "stream",
     "text": [
      "./DECB_input:bpi2012_type:multiset_history:5_actors:activities2012_unrolling_factor:0_reduced:True.gexf\n",
      "{\"A_FINALIZED\": 1, \"O_CREATED0\": 1, \"O_SENT_BACK\": 1, \"W_Nabellen incomplete dossiers#1\": 1, \"W_Nabellen offertes#0\": 1}\n",
      "{\"O_CANCELLED\": 2, \"O_CREATED4\": 1, \"W_Nabellen offertes#0\": 1, \"W_Nabellen offertes#2\": 1}\n",
      "{\"A_ACCEPTED\": 1, \"A_FINALIZED\": 1, \"O_CREATED0\": 1, \"O_SENT_BACK\": 1, \"W_Nabellen incomplete dossiers#1\": 1}\n",
      "{\"O_CANCELLED\": 1, \"O_CREATED2\": 1, \"O_SENT_BACK\": 1, \"W_Nabellen incomplete dossiers#0\": 1, \"W_Nabellen incomplete dossiers#2\": 1}\n",
      "{\"O_CANCELLED\": 1, \"O_CREATED2\": 1, \"O_SENT_BACK\": 2, \"W_Nabellen incomplete dossiers#2\": 1}\n",
      "{\"O_CANCELLED\": 2, \"O_CREATED5\": 1, \"W_Nabellen incomplete dossiers#0\": 2}\n",
      "{\"O_CANCELLED\": 1, \"O_CREATED3\": 1, \"O_SENT_BACK\": 1, \"W_Nabellen incomplete dossiers#2\": 1, \"W_Nabellen offertes#0\": 1}\n",
      "{\"O_CANCELLED\": 2, \"O_CREATED4\": 1, \"W_Nabellen offertes#0\": 2}\n",
      "{\"O_CANCELLED\": 2, \"O_CREATED4\": 1, \"O_SENT_BACK\": 1, \"W_Nabellen offertes#0\": 1}\n",
      "{'A_ACCEPTED': 1, 'A_FINALIZED': 1, 'O_CREATED0': 1, 'O_SENT_BACK': 1, 'W_Nabellenincompletedossiers#1': 1}\n",
      "2\n",
      "{'O_CANCELLED': 2, 'O_CREATED4': 1, 'O_SENT_BACK': 1, 'W_Nabellenoffertes#0': 1}\n",
      "3\n",
      "{'O_CANCELLED': 1, 'O_CREATED2': 1, 'O_SENT_BACK': 2, 'W_Nabellenincompletedossiers#2': 1}\n",
      "2\n",
      "{'O_CANCELLED': 2, 'O_CREATED5': 1, 'W_Nabellenincompletedossiers#0': 2}\n",
      "1\n",
      "{'O_CANCELLED': 1, 'O_CREATED3': 1, 'O_SENT_BACK': 1, 'W_Nabellenincompletedossiers#2': 1, 'W_Nabellenoffertes#0': 1}\n",
      "1\n",
      "Plotted distance12.png\n"
     ]
    },
    {
     "data": {
      "image/png": "[encoded data removed]",
      "text/plain": [
       "<Figure size 432x288 with 1 Axes>"
      ]
     },
     "metadata": {},
     "output_type": "display_data"
    }
   ],
   "source": [
    "print(file_name)\n",
    "analyse_decision_boundary(file_name, \"distance12.png\") # 3 clusters: cancelled no times, 1 times and 2 times (maybe double check)\n"
   ]
  },
  {
   "cell_type": "code",
   "execution_count": 49,
   "metadata": {},
   "outputs": [
    {
     "name": "stdout",
     "output_type": "stream",
     "text": [
      "{\"A_Validating\": 1, \"O_Returned\": 1, \"W_Call after offers SHORT\": 1}\n",
      "{\"A_Validating\": 1, \"O_Returned\": 1, \"W_Call incomplete files SHORT\": 1}\n",
      "{\"A_Validating\": 1, \"O_Returned\": 1, \"W_Call incomplete files LONG\": 1}\n",
      "{\"A_Validating\": 1, \"O_Returned\": 1, \"W_Call after offers SUPER LONG\": 1}\n",
      "{\"O_Create Offer 1\": 1, \"O_Sent (online only)\": 1, \"W_Call after offers SHORT\": 1}\n",
      "{\"O_Create Offer 1\": 1, \"O_Sent (mail and online)\": 1, \"O_Sent (online only)\": 1}\n",
      "{'A_Validating': 1, 'O_Returned': 1, 'W_CallincompletefilesSHORT': 1}\n",
      "4\n",
      "{'O_CreateOffer1': 1, 'O_Sent(mailandonline)': 1, 'O_Sent(onlineonly)': 1}\n",
      "2\n",
      "Plotted distance17.png\n"
     ]
    },
    {
     "data": {
      "image/png": "[encoded data removed]",
      "text/plain": [
       "<Figure size 432x288 with 1 Axes>"
      ]
     },
     "metadata": {},
     "output_type": "display_data"
    }
   ],
   "source": [
    "analyse_decision_boundary(\"cli/DECB_input:bpic2017_after_type:multiset_history:3_actors:activities_unrolling_factor:1_reduced:True.gexf\", \"distance17.png\")"
   ]
  },
  {
   "cell_type": "code",
   "execution_count": 50,
   "metadata": {},
   "outputs": [
    {
     "name": "stdout",
     "output_type": "stream",
     "text": [
      "{\"A_Validating\": 1, \"O_Returned\": 1, \"O_Sent (mail and online)\": 1, \"W_Call after offers SHORT\": 1}\n",
      "{\"A_Validating\": 1, \"O_Returned\": 1, \"W_Call after offers SHORT\": 1, \"W_Call incomplete files SHORT\": 1}\n",
      "{\"A_Validating\": 1, \"O_Returned\": 1, \"O_Sent (mail and online)\": 1, \"W_Call incomplete files SHORT\": 1}\n",
      "{\"A_Validating\": 1, \"O_Returned\": 1, \"W_Call after offers LONG\": 1, \"W_Call incomplete files SHORT\": 1}\n",
      "{\"A_Validating\": 1, \"O_Returned\": 1, \"W_Call after offers LONG\": 1, \"W_Call incomplete files LONG\": 1}\n",
      "{\"A_Validating\": 1, \"O_Returned\": 1, \"W_Call after offers SHORT\": 1, \"W_Call incomplete files LONG\": 1}\n",
      "{\"A_Accepted\": 1, \"O_Create Offer 0\": 1, \"O_Create Offer 1\": 1, \"O_Sent (mail and online)\": 1}\n",
      "{\"A_Accepted\": 1, \"O_Create Offer 0\": 1, \"O_Sent (mail and online)\": 1, \"W_Call after offers SUPER LONG\": 1}\n",
      "{\"A_Accepted\": 1, \"A_Concept\": 1, \"O_Create Offer 0\": 1, \"O_Sent (online only)\": 1}\n",
      "{\"O_Create Offer 1\": 1, \"O_Sent (mail and online)\": 1, \"O_Sent (online only)\": 1, \"W_Call after offers SHORT\": 1}\n",
      "{'A_Validating': 1, 'O_Returned': 1, 'W_CallafteroffersLONG': 1, 'W_CallincompletefilesLONG': 1}\n",
      "6\n",
      "{'A_Accepted': 1, 'O_CreateOffer0': 1, 'O_CreateOffer1': 1, 'O_Sent(mailandonline)': 1}\n",
      "2\n",
      "{'A_Accepted': 1, 'A_Concept': 1, 'O_CreateOffer0': 1, 'O_Sent(onlineonly)': 1}\n",
      "1\n",
      "{'O_CreateOffer1': 1, 'O_Sent(mailandonline)': 1, 'O_Sent(onlineonly)': 1, 'W_CallafteroffersSHORT': 1}\n",
      "1\n",
      "Plotted distance17.png\n"
     ]
    },
    {
     "data": {
      "image/png": "[encoded data removed]",
      "text/plain": [
       "<Figure size 432x288 with 1 Axes>"
      ]
     },
     "metadata": {},
     "output_type": "display_data"
    }
   ],
   "source": [
    "analyse_decision_boundary(\"cli/DECB_input:bpic2017_before_type:multiset_history:4_actors:activities_unrolling_factor:1_reduced:True.gexf\", \"distance17.png\")"
   ]
  },
  {
   "cell_type": "code",
   "execution_count": 55,
   "metadata": {},
   "outputs": [
    {
     "name": "stdout",
     "output_type": "stream",
     "text": [
      "merged start {\"A_SUBMITTED\": 1, \"start\": 1}\n",
      "merged {\"A_ACCEPTED\": 1, \"A_FINALIZED\": 1, \"A_PREACCEPTED\": 1, \"A_SUBMITTED\": 1, \"start\": 1} {\"A_ACCEPTED\": 1, \"A_FINALIZED\": 1, \"A_PREACCEPTED\": 1, \"A_SUBMITTED\": 1, \"O_CREATED0\": 1}\n",
      "merged {\"O_CANCELLED\": 1, \"O_CREATED3\": 1, \"O_CREATED4\": 1, \"W_Nabellen offertes#0\": 1, \"W_Nabellen offertes#2\": 1} {\"O_CANCELLED\": 2, \"O_CREATED4\": 1, \"W_Nabellen offertes#0\": 1, \"W_Nabellen offertes#2\": 1}\n",
      "merged {\"A_FINALIZED\": 1, \"O_CANCELLED\": 2, \"O_CREATED0\": 1, \"O_CREATED1\": 1} {\"O_CANCELLED\": 2, \"O_CREATED0\": 1, \"O_CREATED1\": 1, \"O_CREATED2\": 1}\n",
      "merged {\"O_CANCELLED\": 3, \"O_CREATED1\": 1, \"O_CREATED2\": 1} {\"O_CANCELLED\": 2, \"O_CREATED1\": 1, \"O_CREATED2\": 1, \"O_CREATED3\": 1}\n",
      "merged {\"O_CANCELLED\": 2, \"O_CREATED4\": 1, \"O_CREATED5\": 1, \"W_Nabellen incomplete dossiers#0\": 1} {\"O_CANCELLED\": 1, \"O_CREATED4\": 1, \"O_CREATED5\": 1, \"W_Nabellen incomplete dossiers#0\": 2}\n",
      "merged {\"O_CANCELLED\": 1, \"O_CREATED4\": 1, \"O_CREATED5\": 1, \"W_Nabellen incomplete dossiers#0\": 2} {\"O_CANCELLED\": 2, \"O_CREATED5\": 1, \"W_Nabellen incomplete dossiers#0\": 2}\n",
      "merged {\"O_CANCELLED\": 1, \"O_CREATED0\": 1, \"O_CREATED1\": 1, \"W_Nabellen offertes#2\": 2} {\"O_CANCELLED\": 2, \"O_CREATED1\": 1, \"W_Nabellen offertes#2\": 2}\n",
      "merged {\"O_CANCELLED\": 1, \"O_CREATED2\": 1, \"O_CREATED3\": 1, \"W_Nabellen incomplete dossiers#0\": 1, \"W_Nabellen incomplete dossiers#1\": 1} {\"O_CANCELLED\": 1, \"O_CREATED3\": 1, \"O_SENT_BACK\": 1, \"W_Nabellen incomplete dossiers#0\": 1, \"W_Nabellen incomplete dossiers#1\": 1}\n",
      "merged {\"O_CANCELLED\": 1, \"O_CREATED3\": 1, \"O_SENT_BACK\": 1, \"W_Nabellen incomplete dossiers#0\": 1, \"W_Nabellen incomplete dossiers#1\": 1} {\"O_CANCELLED\": 1, \"O_CREATED4\": 1, \"O_SENT_BACK\": 1, \"W_Nabellen incomplete dossiers#0\": 1, \"W_Nabellen incomplete dossiers#1\": 1}\n",
      "merged {\"O_CANCELLED\": 2, \"O_CREATED3\": 1, \"W_Nabellen incomplete dossiers#0\": 2} {\"O_CANCELLED\": 2, \"O_CREATED3\": 1, \"O_CREATED4\": 1, \"W_Nabellen incomplete dossiers#0\": 1}\n",
      "merged {\"O_CANCELLED\": 2, \"O_CREATED3\": 1, \"O_CREATED4\": 1, \"W_Nabellen incomplete dossiers#0\": 1} {\"O_CANCELLED\": 1, \"O_CREATED3\": 1, \"O_CREATED4\": 1, \"W_Nabellen incomplete dossiers#0\": 2}\n",
      "['pos', 'neg', '{\"A_ACCEPTED\": 1, \"A_FINALIZED\": 1, \"O_CREATED0\": 1, \"O_SENT_BACK\": 1, \"W_Nabellen offertes#0\": 1}']\n",
      "['pos', 'neg', '{\"O_CANCELLED\": 2, \"O_CREATED3\": 1, \"O_CREATED4\": 1, \"W_Nabellen offertes#0\": 1}', '{\"O_CANCELLED\": 2, \"O_CREATED3\": 1, \"O_CREATED4\": 1, \"W_Nabellen offertes#2\": 1}']\n",
      "['pos', 'neg', '{\"A_ACCEPTED\": 1, \"A_FINALIZED\": 1, \"A_PREACCEPTED\": 1, \"O_CREATED0\": 1, \"O_SENT_BACK\": 1}']\n",
      "['pos', 'neg', '{\"O_CANCELLED\": 1, \"O_CREATED2\": 1, \"O_SENT_BACK\": 1, \"W_Nabellen incomplete dossiers#0\": 2}', '{\"O_CANCELLED\": 1, \"O_CREATED2\": 1, \"O_SENT_BACK\": 1, \"W_Nabellen incomplete dossiers#0\": 1, \"W_Nabellen offertes#0\": 1}', '{\"O_CANCELLED\": 1, \"O_CREATED2\": 1, \"O_SENT_BACK\": 1, \"W_Nabellen incomplete dossiers#2\": 1, \"W_Nabellen offertes#0\": 1}', '{\"O_CANCELLED\": 1, \"O_CREATED2\": 1, \"O_SENT_BACK\": 1, \"W_Nabellen incomplete dossiers#2\": 1, \"W_Nabellen offertes#2\": 1}', '{\"O_CANCELLED\": 1, \"O_CREATED1\": 1, \"O_CREATED2\": 1, \"O_SENT_BACK\": 1, \"W_Nabellen incomplete dossiers#2\": 1}']\n",
      "['pos', 'neg', '{\"O_CANCELLED\": 1, \"O_CREATED2\": 1, \"O_SENT_BACK\": 1, \"W_Nabellen incomplete dossiers#2\": 1, \"W_Nabellen offertes#0\": 1}']\n",
      "['pos', 'neg', '{\"O_CANCELLED\": 2, \"O_CREATED4\": 1, \"W_Nabellen incomplete dossiers#0\": 2}']\n",
      "['pos', 'neg', '{\"O_CANCELLED\": 1, \"O_CREATED2\": 1, \"O_SENT_BACK\": 1, \"W_Nabellen incomplete dossiers#2\": 1, \"W_Nabellen offertes#0\": 1}', '{\"O_CANCELLED\": 1, \"O_CREATED3\": 1, \"O_SENT_BACK\": 1, \"W_Nabellen offertes#0\": 2}']\n",
      "['pos', 'neg', '{\"O_CANCELLED\": 1, \"O_CREATED3\": 1, \"O_CREATED4\": 1, \"W_Nabellen offertes#0\": 2}']\n",
      "['pos', 'neg', '{\"O_CANCELLED\": 1, \"O_CREATED3\": 1, \"O_CREATED4\": 1, \"O_SENT_BACK\": 1, \"W_Nabellen offertes#0\": 1}']\n",
      "2 0\n",
      "3 1\n",
      "4 2\n",
      "Plotted 2012_clustered.png\n",
      "resize 1 finished\n"
     ]
    }
   ],
   "source": [
    "# produces Figure 6 in the publication\n",
    "def draw_dfg_cluster(g, name, layout = \"sfdp\"):\n",
    "\n",
    "    # color graph\n",
    "    for s in g:\n",
    "        outgoing_sum = 0\n",
    "        if \"color\" in g.nodes[s]:\n",
    "            if g.nodes[s]['color'] == \"blue\":\n",
    "                    continue\n",
    "        for n in g[s]:\n",
    "            if \"cost\" in g[s][n]:\n",
    "                outgoing_sum += g[s][n][\"cost\"]\n",
    "        if outgoing_sum >= 16:\n",
    "            g.nodes[s]['color'] = \"#0ead69\"\n",
    "        elif outgoing_sum <= -30:\n",
    "            g.nodes[s]['color'] = \"#9a031e\"\n",
    "        else:\n",
    "            g.nodes[s]['color'] = \"grey\"\n",
    "            \n",
    "    A = to_agraph(g)\n",
    "    edge_weights = nx.get_edge_attributes(g,'cost')\n",
    "    scaling = 10\n",
    "    for e in edge_weights:\n",
    "        e = A.get_edge(e[0], e[1])\n",
    "        e.attr[\"penwidth\"] = \"15\"\n",
    "        e.attr[\"fontsize\"] = \"20\"\n",
    "        e.attr[\"label\"] = \"\"\n",
    "        e.attr[\"color\"] = \"red\" if edge_weights[e] < 0 else \"green\"\n",
    "    for e in g.edges:\n",
    "        if 'controllable' in g[e[0]][e[1]]:\n",
    "            if not g[e[0]][e[1]]['controllable']:\n",
    "                edge = A.get_edge(e[0], e[1])\n",
    "                edge.attr[\"style\"] = \"dotted\"\n",
    "        \n",
    "    clusters = {\"0\": [], \"1\": [], \"2\":[]}\n",
    "    for s in A.nodes():\n",
    "        if \"decision_boundary\" in s.attr:\n",
    "            if s.attr[\"decision_boundary\"] == \"True\":\n",
    "                print(A[s])\n",
    "                s.attr['color'] = \"blue\"\n",
    "                \n",
    "                c = \"0\" if not \"O_CANCELLED\" in s else \"1\" if '\"O_CANCELLED\": 1' in s else \"2\"\n",
    "                clusters[c].append(s)\n",
    "\n",
    "    count = 0\n",
    "    for n in A.nodes():\n",
    "        n.attr['fontsize'] = 100\n",
    "        n.attr['penwidth'] = 20\n",
    "        n.attr['height'] = 2\n",
    "        n.attr['width'] = 2\n",
    "        if n == \"pos\":\n",
    "            n.attr['color'] = \"#0ead69\"\n",
    "            n.attr['fontcolor'] = \"#0ead69\"\n",
    "            n.attr['label'] = 'Cpos'\n",
    "        if n == \"neg\":\n",
    "            n.attr['color'] = \"#9a031e\"\n",
    "            n.attr['fontcolor'] = \"#9a031e\"\n",
    "            n.attr['label'] = 'Cneg'\n",
    "        \n",
    "            \n",
    "        if n not in [\"pos\", \"neg\"]:\n",
    "            n.attr['label'] = \"\"\n",
    "    \n",
    "    A.layout(layout)\n",
    "    print(\"Plotted\", name)\n",
    "    A.draw(name)\n",
    "\n",
    "def get_connection(g):\n",
    "    for s in g:\n",
    "        if len(list(g[s]))!= 1:\n",
    "            continue\n",
    "        assert(len(list(g[s]))==1)\n",
    "        v = list(g[s])[0]\n",
    "\n",
    "        edges = list(g.in_edges(v))\n",
    "        if len(edges) == 1:\n",
    "            s1 = edges[0][0]\n",
    "            v1 = edges[0][1]\n",
    "            assert(s == s1 and v == v1)\n",
    "            return (s,v)\n",
    "    return None\n",
    "\n",
    "# Function to merge all 1:1 edges, produces a smaller plot\n",
    "def merge_connections(g):\n",
    "    g = copy.deepcopy(g)\n",
    "    \n",
    "    edge = get_connection(g)\n",
    "    while(edge != None):\n",
    "        g = nx.contracted_nodes(g, edge[1], edge[0])\n",
    "        print(\"merged\", edge[0], edge[1])\n",
    "        g.remove_edges_from(nx.selfloop_edges(g))\n",
    "        edge = get_connection(g)\n",
    "        \n",
    "    return g\n",
    "\n",
    "if SAVE_ELEMENTS:\n",
    "    to_draw = nx.read_gexf(file_name)\n",
    "    to_draw = merge_connections(to_draw)\n",
    "    draw_dfg_cluster(to_draw, \"clustered_2012.png\", layout = \"dot\")\n"
   ]
  },
  {
   "attachments": {},
   "cell_type": "markdown",
   "metadata": {},
   "source": [
    "# Dimension Reduction\n",
    "We investigate the applicability of the decision boundary as dimension reduction technique.\n",
    "When interpreting single events as features, many events are highly correlated.\n",
    "For instance, when entering the positive or negative cluster the outcome is determined and many events are thus positively correlated.\n",
    "When removing the events contained in the decision boundary, the present correlations reduce drastically."
   ]
  },
  {
   "cell_type": "code",
   "execution_count": 52,
   "metadata": {},
   "outputs": [],
   "source": [
    "def ms(trace):\n",
    "    multiset = {}\n",
    "    for pos in trace:\n",
    "        if pos['concept:name'] not in multiset:\n",
    "            multiset[pos['concept:name']] = 1\n",
    "        else:\n",
    "            multiset[pos['concept:name']] += 1\n",
    "    return json.dumps(multiset, sort_keys=True).encode().decode(\"utf-8\") # use json encodings for multisets\n",
    "\n",
    "def hist(trace): \n",
    "    hist = str(trace[0]['concept:name'])\n",
    "    for pos in trace[1:]:\n",
    "        hist += \" - \" + str(pos['concept:name']) # construct history\n",
    "    return hist\n",
    "\n",
    "def to_df(log, file_name, SEQUENCE_HISTORY):\n",
    "    system = nx.read_gexf(file_name)\n",
    "    trace_df = pd.DataFrame(columns = list(system.edges()).append(\"y\"))\n",
    "    for trace in log:\n",
    "        trace_edges = [x['concept:name'] for x in trace]\n",
    "        data = {}\n",
    "        s = \"start\"\n",
    "        assert(trace[0]['concept:name']==\"start\")\n",
    "        for i in range(1,len(trace_edges)):\n",
    "            t = ms(trace[max(0,i-SEQUENCE_HISTORY+1):i+1])\n",
    "            if t not in list(system.nodes()):\n",
    "                s = t\n",
    "                continue\n",
    "            if (s,t) not in data:\n",
    "                data[(s,t)] = 1\n",
    "            else:\n",
    "                data[(s,t)] = data[(s,t)]+1\n",
    "            s = t\n",
    "        data[\"y\"] = 1 if \"positive\" in trace_edges else -1\n",
    "        trace_df = trace_df.append(data, ignore_index=True)\n",
    "    trace_df = trace_df.fillna(0)\n",
    "    assert(len(trace_df.index) == len(log))\n",
    "    return trace_df\n",
    "\n",
    "# analyse used process model with mutli-set abstraction and history 5\n",
    "trace_df = to_df(list_log_application,\"cli/DECB_input:bpi2012_type:multiset_history:5_actors:activities2012_unrolling_factor:1_.gexf\" ,5)\n",
    "trace_df_reduced = to_df(list_log_application,\"DECB_input:bpi2012_type:multiset_history:5_actors:activities2012_unrolling_factor:1_reduced:True.gexf\" ,5)\n",
    "correlations = trace_df.corr().unstack().to_dict()"
   ]
  },
  {
   "cell_type": "code",
   "execution_count": 53,
   "metadata": {},
   "outputs": [
    {
     "name": "stdout",
     "output_type": "stream",
     "text": [
      "[0.0, nan, nan, 0.0, nan, 0.0, 0.5, 0.24, nan, nan, nan, nan, 0.38981173864894797, 0.32469775474956825, 0.3145631067961165, 0.340625, 0.45045045045045046, 0.2745762711864407, 0.5148514851485149, 0.2714535901926445]\n",
      "[-1.00000000e+00 -9.00000000e-01 -8.00000000e-01 -7.00000000e-01\n",
      " -6.00000000e-01 -5.00000000e-01 -4.00000000e-01 -3.00000000e-01\n",
      " -2.00000000e-01 -1.00000000e-01 -2.22044605e-16  1.00000000e-01\n",
      "  2.00000000e-01  3.00000000e-01  4.00000000e-01  5.00000000e-01\n",
      "  6.00000000e-01  7.00000000e-01  8.00000000e-01  9.00000000e-01\n",
      "  1.00000000e+00]\n"
     ]
    },
    {
     "name": "stderr",
     "output_type": "stream",
     "text": [
      "/tmp/ipykernel_10472/2739212427.py:5: RuntimeWarning: invalid value encountered in double_scalars\n",
      "  print([counts1[i]/counts[i] for i in range(len(counts))])\n"
     ]
    },
    {
     "data": {
      "image/png": "[encoded data removed]",
      "text/plain": [
       "<Figure size 432x288 with 1 Axes>"
      ]
     },
     "metadata": {
      "needs_background": "light"
     },
     "output_type": "display_data"
    }
   ],
   "source": [
    "# construct comparison plot\n",
    "counts, bins, bars = plt.hist([x for x in trace_df.corr().unstack() if abs(x) > 0.2], 20, label = \"Original\", color = '#0C7BDC')\n",
    "\n",
    "counts1, bins1, bars1 = plt.hist([x for x in trace_df_reduced.corr().unstack() if abs(x) > 0.2], 20, label = \"Reduced\", color = '#FFC20A', range = [-1,1])\n",
    "\n",
    "print(\"Remaining correlations in % after reduction\", [counts1[i]/counts[i] for i in range(len(counts))])\n",
    "\n",
    "plt.xlabel(\"Pearson Correlation\", fontsize = 18)\n",
    "plt.ylabel(\"Occurrences\", fontsize = 18)\n",
    "plt.xticks(fontsize=14)\n",
    "plt.yticks(fontsize=14)\n",
    "plt.legend(prop={'size':14})\n",
    "plt.show()"
   ]
  },
  {
   "cell_type": "code",
   "execution_count": null,
   "metadata": {},
   "outputs": [],
   "source": []
  }
 ],
 "metadata": {
  "kernelspec": {
   "display_name": "Python 3.8.10 64-bit",
   "language": "python",
   "name": "python3"
  },
  "language_info": {
   "codemirror_mode": {
    "name": "ipython",
    "version": 3
   },
   "file_extension": ".py",
   "mimetype": "text/x-python",
   "name": "python",
   "nbconvert_exporter": "python",
   "pygments_lexer": "ipython3",
   "version": "3.8.10 (default, Nov 14 2022, 12:59:47) \n[GCC 9.4.0]"
  },
  "orig_nbformat": 4,
  "vscode": {
   "interpreter": {
    "hash": "916dbcbb3f70747c44a77c7bcd40155683ae19c65e1c03b4aa3499c5328201f1"
   }
  }
 },
 "nbformat": 4,
 "nbformat_minor": 2
}
