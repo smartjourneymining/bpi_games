{
 "cells": [
  {
   "cell_type": "code",
   "execution_count": 1,
   "metadata": {},
   "outputs": [],
   "source": [
    "import numpy as np\n",
    "import random\n",
    "import pandas as pd\n",
    "from pm4py.objects.log.util import dataframe_utils\n",
    "from pm4py.objects.conversion.log import converter as log_converter\n",
    "import networkx as nx\n",
    "from networkx.drawing.nx_agraph import graphviz_layout, to_agraph\n",
    "import matplotlib.pyplot as plt\n",
    "\n",
    "import copy\n",
    "\n",
    "import pygraphviz as pgv\n",
    "import json\n",
    "\n",
    "import pm4py\n",
    "\n",
    "from collections import Counter\n",
    "import subprocess\n",
    "\n",
    "from sklearn import mixture"
   ]
  },
  {
   "cell_type": "code",
   "execution_count": 2,
   "metadata": {},
   "outputs": [],
   "source": [
    "# global variables\n",
    "SAVE_ELEMENTS = True # store generated elements\n",
    "\n",
    "#paths\n",
    "BPI_PATH = 'BPI_Challenge_2012.xes'\n",
    "BPI_PATH_PROCESSED = 'bpi2012.xes'\n",
    "ACTIVITIES_PATH = 'activities2012.xml'\n",
    "\n",
    "# log processing\n",
    "MIN_SPEAKING_TIME = 60\n",
    "DAY_DIFFERENCE = 10\n",
    "CLUSTER_COMPONENTS = 3\n",
    "\n",
    "# verfification\n",
    "VERIFYTA_PATH = \".../bin/verifyta\""
   ]
  },
  {
   "cell_type": "code",
   "execution_count": 3,
   "metadata": {},
   "outputs": [
    {
     "name": "stderr",
     "output_type": "stream",
     "text": [
      "parsing log, completed traces :: 100%|██████████| 13087/13087 [00:06<00:00, 2152.44it/s]\n"
     ]
    }
   ],
   "source": [
    "# Load the log\n",
    "from pm4py.objects.log.importer.xes import importer as xes_importer\n",
    "log_application = xes_importer.apply(BPI_PATH)"
   ]
  },
  {
   "cell_type": "code",
   "execution_count": 4,
   "metadata": {},
   "outputs": [],
   "source": [
    "# helpfer function to check if element is contained in trace\n",
    "def contains(trace, element):\n",
    "    for event in trace:\n",
    "        if event['concept:name']==element:\n",
    "            return True\n",
    "    return False"
   ]
  },
  {
   "attachments": {},
   "cell_type": "markdown",
   "metadata": {},
   "source": [
    "# Preprocessing\n",
    "\n",
    "In the preprocessing, we:\n",
    "- transform the log into a list format\n",
    "- discretise offer events\n",
    "- remove trivial events\n",
    "- remove incomplete and declines journeys\n",
    "- compute durations of calls\n",
    "- cluster call events "
   ]
  },
  {
   "cell_type": "code",
   "execution_count": 5,
   "metadata": {},
   "outputs": [],
   "source": [
    "# detect \"redundant\" events -> can be omitted\n",
    "for trace in log_application:\n",
    "    for i in range(len(trace)):\n",
    "        if trace[i]['concept:name'] == \"A_PARTLYSUBMITTED\":\n",
    "            assert(trace[i-1]['concept:name']== \"A_SUBMITTED\")\n",
    "\n",
    "        \"\"\"\n",
    "        # cant confirm from Bautista et al.\n",
    "        if trace[i]['concept:name'] == \"O_CANCELLED\":\n",
    "            if not (trace[i+1]['concept:name'] == \"A_CANCELLED\" or trace[i-1]['concept:name'] == \"A_CANCELLED\"):\n",
    "                print(trace[i-2]['concept:name'])\n",
    "                print(trace[i-1]['concept:name'])\n",
    "                print(trace[i]['concept:name'])\n",
    "                print(trace[i+1]['concept:name'])\n",
    "                print(trace[i+2]['concept:name'])\n",
    "            assert(trace[i+1]['concept:name']== \"A_CANCELLED\" or trace[i-1]['concept:name']== \"A_CANCELLED\")\n",
    "        \"\"\"\n",
    "\n",
    "        if trace[i]['concept:name'] == \"O_DECLINED\":\n",
    "            assert(trace[i+1]['concept:name']== \"A_DECLINED\" or trace[i-1]['concept:name']== \"A_DECLINED\")\n",
    "        \n",
    "        # in successfull traces always 4 events together; occur only in successfull traces\n",
    "        if contains(trace, \"A_APPROVED\"):\n",
    "            if trace[i]['concept:name'] == \"A_APPROVED\":\n",
    "                pos1 = 0\n",
    "                pos2 = 0\n",
    "                pos3 = 0\n",
    "\n",
    "                for j in range(len(trace)):\n",
    "                    if trace[j][\"concept:name\"] == \"O_ACCEPTED\":\n",
    "                        pos1 = j\n",
    "                for j in range(len(trace)):\n",
    "                    if trace[j][\"concept:name\"] == \"A_ACTIVATED\":\n",
    "                        pos2 = j\n",
    "                for j in range(len(trace)):\n",
    "                    if trace[j][\"concept:name\"] == \"A_REGISTERED\":\n",
    "                        pos3 = j\n",
    "\n",
    "                s = sorted([pos1, pos2, pos3, i])\n",
    "                assert(s[0] == s[1]-1 and s[1] == s[2]-1 and s[2] == s[3]-1 or not contains(trace, \"O_ACCEPTED\") and s[1] == s[2]-1 and s[2] == s[3]-1 ) \n",
    "                # in three cases is \"O_ACCEPTED\" not contained, but then are the offers also pre-accepted and the other three elements are in group\n",
    "        else:\n",
    "            assert(not contains(trace, \"A_APPROVED\"))\n",
    "            assert(not contains(trace, \"O_ACCEPTED\"))\n",
    "            assert(not contains(trace, \"A_ACTIVATED\"))\n",
    "            assert(not contains(trace, \"A_REGISTERED\"))\n",
    "        \n",
    "        if trace[i]['concept:name'] == \"O_CREATED\":\n",
    "            assert(trace[i+1]['concept:name']== \"O_SENT\")"
   ]
  },
  {
   "cell_type": "code",
   "execution_count": 6,
   "metadata": {},
   "outputs": [],
   "source": [
    "# investigate number of offers - has no event for \"sent offer\"\n",
    "# discretise single 0_CREATED and 0_SENT events\n",
    "for trace in log_application:\n",
    "    offer_count = -1\n",
    "    for e in trace:\n",
    "        if \"O_CREATED\" in e[\"concept:name\"]:\n",
    "            offer_count += 1\n",
    "            e[\"concept:name\"] += str(offer_count)\n",
    "\n",
    "        elif \"O_SENT\" in e[\"concept:name\"] and \"BACK\" not in e[\"concept:name\"]:\n",
    "            e[\"concept:name\"] += str(offer_count)"
   ]
  },
  {
   "cell_type": "code",
   "execution_count": 7,
   "metadata": {},
   "outputs": [
    {
     "name": "stdout",
     "output_type": "stream",
     "text": [
      "Different outcomes: {'A_DECLINED': 7635, 'A_CANCELLED': 2807, 'A_APPROVED': 2246, 'unclass': 399}\n",
      "Number of events 13087  number of accounted outcomes 13087\n"
     ]
    }
   ],
   "source": [
    "# Confirm findings from report on declined, cancelled, approved and unclassified traces.\n",
    "counts = {\"A_DECLINED\":0, \"A_CANCELLED\":0, \"A_APPROVED\":0, \"unclass\": 0}\n",
    "for trace in log_application:\n",
    "    found = False\n",
    "    for k in list(counts.keys()):\n",
    "        if contains(trace, k):\n",
    "            assert(not found)\n",
    "            found = True\n",
    "            counts[k] += 1\n",
    "    if not found:\n",
    "        counts[\"unclass\"] += 1\n",
    "\n",
    "print(\"Different outcomes:\", counts)\n",
    "print(\"Number of events\",len(log_application) ,\" number of accounted outcomes\", sum([counts[k] for k in counts.keys()]))"
   ]
  },
  {
   "cell_type": "code",
   "execution_count": 8,
   "metadata": {},
   "outputs": [],
   "source": [
    "# Transform log into list format, log is represented as list of lists, easier removal and insertion of single events.\n",
    "def log_to_list(log):\n",
    "    transformed_log = []\n",
    "    for trace in log:\n",
    "        current_trace = []\n",
    "        for event in trace:\n",
    "            event['case:concept:name'] = trace.attributes['concept:name']\n",
    "            current_trace.append(event)\n",
    "        current_trace.insert(0, {\"concept:name\": \"start\", 'case:concept:name':trace.attributes['concept:name'], 'time:timestamp': trace[0]['time:timestamp']}) #insert start event\n",
    "        transformed_log.append(current_trace)\n",
    "    return transformed_log\n",
    "\n",
    "list_log_application = log_to_list(log_application)"
   ]
  },
  {
   "cell_type": "code",
   "execution_count": 9,
   "metadata": {},
   "outputs": [],
   "source": [
    "# Only cancelled and approved events are kept in the log, Final events are appended.\n",
    "def filter_incomplete_traces(log):\n",
    "    transformed_log = []\n",
    "    outcomes = [\"A_CANCELLED\", \"A_APPROVED\"] # \"A_DECLINED\",\n",
    "    for trace in log:\n",
    "        trace_copy = copy.deepcopy(trace)\n",
    "        contained = False\n",
    "        for o in outcomes:\n",
    "            if contains(trace, o):\n",
    "                contained = True\n",
    "        if contained:\n",
    "            if contains(trace, \"A_CANCELLED\"):\n",
    "                trace_copy.append({'concept:name': \"negative\", 'time:timestamp': trace[-1]['time:timestamp'], 'case:concept:name': trace[0]['case:concept:name']})\n",
    "            if contains(trace, \"A_APPROVED\"):\n",
    "                trace_copy.append({'concept:name': \"positive\", 'time:timestamp': trace[-1]['time:timestamp'], 'case:concept:name': trace[0]['case:concept:name']})\n",
    "            assert(contains(trace_copy, \"negative\") or contains(trace_copy, \"positive\"))\n",
    "            transformed_log.append(trace_copy)\n",
    "    return transformed_log\n",
    "\n",
    "list_log_application = filter_incomplete_traces(list_log_application)"
   ]
  },
  {
   "cell_type": "code",
   "execution_count": 10,
   "metadata": {},
   "outputs": [
    {
     "name": "stdout",
     "output_type": "stream",
     "text": [
      "Variants before removing trivial elements\n",
      "3319\n"
     ]
    }
   ],
   "source": [
    "def variants(log):\n",
    "    element_list = []\n",
    "    for trace in log:\n",
    "        new_trace = [k[\"concept:name\"] for k in trace]\n",
    "        element_list.append(new_trace)\n",
    "    print(len(Counter(str(e) for e in element_list).keys()))\n",
    "\n",
    "print(\"Variants before removing trivial elements\")\n",
    "variants(list_log_application)"
   ]
  },
  {
   "cell_type": "code",
   "execution_count": 11,
   "metadata": {},
   "outputs": [],
   "source": [
    "# Filter events from log and compute durations of single calls\n",
    "def adjust_durations(log):\n",
    "    transformed_log = []\n",
    "    for trace in log:\n",
    "        new_trace  = []\n",
    "        for i in range(len(trace)):\n",
    "            if \"W_Nabellen\" in trace[i]['concept:name']: # omits SCHEDULE and COMPLETE call events\n",
    "                if trace[i]['lifecycle:transition']==\"START\":\n",
    "                    found = False\n",
    "                    duration = 0\n",
    "                    j = i\n",
    "                    while not found:\n",
    "                        j = j+1\n",
    "                        if j >= len(trace):\n",
    "                            for e in trace:\n",
    "                                print(e[\"concept:name\"], e['lifecycle:transition'])\n",
    "                        assert(j < len(trace))\n",
    "                        if trace[j]['concept:name'] == trace[i]['concept:name']:\n",
    "                            assert(trace[j]['lifecycle:transition'] != \"START\")\n",
    "                            if  trace[j]['lifecycle:transition']==\"COMPLETE\":\n",
    "                                found = True\n",
    "                                duration = (trace[j]['time:timestamp']-trace[i]['time:timestamp']).total_seconds()\n",
    "                        \n",
    "                    if duration > MIN_SPEAKING_TIME:\n",
    "                        if new_trace[-1][\"concept:name\"] == trace[i]['concept:name']: # merge call times together\n",
    "                            new_trace[-1][\"duration\"] += duration\n",
    "                        else:\n",
    "                            new_element = copy.deepcopy(trace[i])\n",
    "                            new_element[\"duration\"] = duration\n",
    "                            new_trace.append(new_element)\n",
    "            if trace[i]['concept:name'] == \"A_Cancelled\": #differentiate between user_abort and timeout\n",
    "                new_element = copy.deepcopy(trace[i])\n",
    "                if (trace[i]['time:timestamp']-trace[i-1]['time:timestamp']).days >= DAY_DIFFERENCE or (trace[i]['time:timestamp']-trace[i-2]['time:timestamp']).days >= TIMEOUT_THRESHOLD :\n",
    "                    new_element[-1]['concept:name'] = \"TIMEOUT\"\n",
    "                    assert(False) # no timeouts detected before cancellation\n",
    "                else:\n",
    "                    new_element[-1]['concept:name'] += \" CUSTOMER\"\n",
    "                new_trace.append(new_element)\n",
    "            else:\n",
    "                if \"W_\" in trace[i]['concept:name']:  # skip other workflow elements\n",
    "                    continue\n",
    "                if \"O_SELECTED\" in trace[i]['concept:name']:\n",
    "                    continue\n",
    "                if \"O_SENT\" in trace[i]['concept:name'] and \"BACK\" not in trace[i]['concept:name']: # skip sent event, but not send_back\n",
    "                    continue\n",
    "                elif \"O_DECLINED\" in trace[i]['concept:name'] or \"A_PARTLYSUBMITTED\" in trace[i]['concept:name']: # skip trivial elements\n",
    "                    continue\n",
    "                else:\n",
    "                    new_trace.append(trace[i])\n",
    "\n",
    "        transformed_log.append(new_trace)\n",
    "    return transformed_log\n",
    "\n",
    "list_log_application = adjust_durations(list_log_application)"
   ]
  },
  {
   "cell_type": "code",
   "execution_count": 12,
   "metadata": {},
   "outputs": [],
   "source": [
    "# Function to merge the 4 events present in successful logs: A_APPROVED, O_ACCEPTED, A_ACTIVATED and A_REGISTERED\n",
    "def merge_successful(log):\n",
    "    transformed_log = []\n",
    "    for trace in log:\n",
    "        if contains(trace, \"A_APPROVED\"):\n",
    "            modified_trace = copy.deepcopy(trace)\n",
    "\n",
    "            for j in range(len(modified_trace)):\n",
    "                if modified_trace[j][\"concept:name\"] == \"O_ACCEPTED\":\n",
    "                    modified_trace.pop(j)\n",
    "                    break\n",
    "\n",
    "            for j in range(len(modified_trace)):\n",
    "                if modified_trace[j][\"concept:name\"] == \"A_ACTIVATED\":\n",
    "                    modified_trace.pop(j)\n",
    "                    break\n",
    "            \n",
    "            for j in range(len(modified_trace)):\n",
    "                if modified_trace[j][\"concept:name\"] == \"A_REGISTERED\":\n",
    "                    modified_trace.pop(j)\n",
    "                    break\n",
    "            \n",
    "            transformed_log.append(modified_trace)\n",
    "\n",
    "        else:\n",
    "            transformed_log.append(trace)\n",
    "    return transformed_log\n",
    "\n",
    "list_log_application = merge_successful(list_log_application)"
   ]
  },
  {
   "cell_type": "code",
   "execution_count": 13,
   "metadata": {},
   "outputs": [
    {
     "name": "stdout",
     "output_type": "stream",
     "text": [
      "Variants after removing trivial events\n",
      "202\n"
     ]
    }
   ],
   "source": [
    "print(\"Variants after removing trivial events\")\n",
    "variants(list_log_application)"
   ]
  },
  {
   "cell_type": "code",
   "execution_count": 14,
   "metadata": {},
   "outputs": [
    {
     "name": "stdout",
     "output_type": "stream",
     "text": [
      "Duration histogram for 'W_Nabellen offertes'\n"
     ]
    },
    {
     "data": {
      "image/png": "[encoded data removed]",
      "text/plain": [
       "<Figure size 432x288 with 1 Axes>"
      ]
     },
     "metadata": {
      "needs_background": "light"
     },
     "output_type": "display_data"
    },
    {
     "name": "stdout",
     "output_type": "stream",
     "text": [
      "Duration histogram for 'W_Nabellen incomplete dossiers'\n"
     ]
    },
    {
     "data": {
      "image/png": "[encoded data removed]",
      "text/plain": [
       "<Figure size 432x288 with 1 Axes>"
      ]
     },
     "metadata": {
      "needs_background": "light"
     },
     "output_type": "display_data"
    }
   ],
   "source": [
    "# investigate response times\n",
    "response_times = {}\n",
    "for trace in list_log_application:\n",
    "    for e in trace:\n",
    "        if \"W_Nabellen\" in e['concept:name']:\n",
    "            if e['concept:name'] not in response_times:\n",
    "                response_times[e['concept:name']] = []\n",
    "            response_times[e['concept:name']].append(e['duration'])\n",
    "print(\"Duration histogram for 'W_Nabellen offertes'\")\n",
    "plt.hist(response_times['W_Nabellen offertes'], 20)\n",
    "plt.show()\n",
    "print(\"Duration histogram for 'W_Nabellen incomplete dossiers'\")\n",
    "plt.hist(response_times['W_Nabellen incomplete dossiers'], 20)\n",
    "plt.show()"
   ]
  },
  {
   "cell_type": "code",
   "execution_count": 15,
   "metadata": {},
   "outputs": [
    {
     "name": "stdout",
     "output_type": "stream",
     "text": [
      "start\n",
      "A_SUBMITTED\n",
      "A_PREACCEPTED\n",
      "A_ACCEPTED\n",
      "A_FINALIZED\n",
      "O_CREATED0\n",
      "W_Nabellen offertes\n",
      "O_SENT_BACK\n",
      "A_APPROVED\n",
      "positive\n",
      "####\n",
      "start\n",
      "A_SUBMITTED\n",
      "A_PREACCEPTED\n",
      "A_ACCEPTED\n",
      "A_FINALIZED\n",
      "O_CREATED0\n",
      "W_Nabellen offertes#0\n",
      "O_SENT_BACK\n",
      "A_APPROVED\n",
      "positive\n"
     ]
    }
   ],
   "source": [
    "# Cluster call events based on call durations by Bayesian-Gaussian mixture clustering\n",
    "def get_bayesian_gaussian_mixture(components, times):\n",
    "    duration_classifier = {}\n",
    "    for t in times:\n",
    "        if len(times[t])==1:\n",
    "            g = mixture.BayesianGaussianMixture(n_components=1,covariance_type='full')\n",
    "            g.fit(np.array([[times[t]], [times[t]]]).reshape(-1, 1))\n",
    "            duration_classifier[t] = g\n",
    "            continue\n",
    "        \n",
    "        g = mixture.BayesianGaussianMixture(n_components=components,covariance_type='full', random_state=42)\n",
    "        g.fit(np.array(times[t]).reshape(-1,1))\n",
    "        duration_classifier[t] = g\n",
    "    return duration_classifier\n",
    "\n",
    "def classify_log(log, predictor):\n",
    "    log = copy.deepcopy(log)\n",
    "    for trace in log:\n",
    "        for pos in range(1,len(trace)):\n",
    "            action = trace[pos][\"concept:name\"]\n",
    "            if \"W_Nabellen\" not in action:\n",
    "                continue\n",
    "            assert(\"duration\" in trace[pos])\n",
    "            duration = trace[pos][\"duration\"]\n",
    "            suffix = str(predictor[action].predict(np.array(duration).reshape(1,-1))[0])\n",
    "            assert(int(suffix) in list(range(0,100)))\n",
    "            trace[pos][\"concept:name\"] += \"#\"+suffix\n",
    "\n",
    "    return log\n",
    "\n",
    "for e in list_log_application[0]:\n",
    "    print(e[\"concept:name\"])\n",
    "print(\"####\")\n",
    "\n",
    "predictor = get_bayesian_gaussian_mixture(CLUSTER_COMPONENTS, response_times)\n",
    "list_log_application = classify_log(list_log_application, predictor)\n",
    "\n",
    "for e in list_log_application[0]:\n",
    "    print(e[\"concept:name\"])"
   ]
  },
  {
   "attachments": {},
   "cell_type": "markdown",
   "metadata": {},
   "source": [
    "# Log Properties\n",
    "We investigate certain log properties differentiating the BPIC'17 event log from BPIC'12.\n",
    "It shows that not only the average number of calls but also the average number of generated offers were significantly changed."
   ]
  },
  {
   "cell_type": "code",
   "execution_count": 16,
   "metadata": {},
   "outputs": [
    {
     "name": "stdout",
     "output_type": "stream",
     "text": [
      "Average number of calls in successful journeys {'W_Nabellen incomplete': 0.6282279608192342, 'W_Nabellen offertes': 1.0031166518254675}\n",
      "Average number of calls in unsuccessful journeys {'W_Nabellen incomplete': 0.05949412183826149, 'W_Nabellen offertes': 0.7011043819023869}\n",
      "Average number of calls in all journeys {'W_Nabellen incomplete': 0.3122897288739363, 'W_Nabellen offertes': 0.8353453394023352}\n"
     ]
    }
   ],
   "source": [
    "# investigate avg. number of calls in trace\n",
    "counts_positive = {\"W_Nabellen incomplete\" : 0, \"W_Nabellen offertes\":0}\n",
    "pos_count = 0\n",
    "for trace in list_log_application:\n",
    "    if contains(trace, \"positive\") :\n",
    "        pos_count += 1\n",
    "        for e in trace:\n",
    "            if \"W_Nabellen incomplete\" in e['concept:name']:\n",
    "                counts_positive[\"W_Nabellen incomplete\"] += 1\n",
    "            if \"W_Nabellen offertes\" in e['concept:name']:\n",
    "                counts_positive['W_Nabellen offertes'] += 1\n",
    "\n",
    "counts_negative = {\"W_Nabellen incomplete\" : 0, \"W_Nabellen offertes\":0}\n",
    "neg_count = 0\n",
    "for trace in list_log_application:\n",
    "    if contains(trace, \"negative\") :\n",
    "        neg_count += 1\n",
    "        for e in trace:\n",
    "            if \"W_Nabellen incomplete\" in e['concept:name']:\n",
    "                counts_negative[\"W_Nabellen incomplete\"] += 1\n",
    "            if \"W_Nabellen offertes\" in e['concept:name']:\n",
    "                counts_negative['W_Nabellen offertes'] += 1\n",
    "\n",
    "both = {\"W_Nabellen incomplete\" : 0, \"W_Nabellen offertes\":0}\n",
    "for k in counts_positive:\n",
    "    both[k] = (counts_negative[k] + counts_positive[k])/(neg_count+pos_count)\n",
    "\n",
    "for k in counts_positive:\n",
    "    counts_positive[k] /= pos_count\n",
    "for k in counts_negative:\n",
    "    counts_negative[k] /= neg_count\n",
    "\n",
    "\n",
    "print(\"Average number of calls in successful journeys\", counts_positive)\n",
    "print(\"Average number of calls in unsuccessful journeys\", counts_negative)\n",
    "print(\"Average number of calls in all journeys\", both)"
   ]
  },
  {
   "cell_type": "code",
   "execution_count": 17,
   "metadata": {},
   "outputs": [
    {
     "name": "stdout",
     "output_type": "stream",
     "text": [
      "Average number of created offers in successful journeys 1.4804096170970615\n",
      "Average number of created offers in unsuccessful journeys 0.7759173494834343\n",
      "Average number of created offers in all journeys 1.0890560063328716\n"
     ]
    }
   ],
   "source": [
    "# Investigate the average number of created offers\n",
    "counts_pos = []\n",
    "counts_neg = []\n",
    "for trace in list_log_application:\n",
    "    count = 0\n",
    "    if contains(trace, \"positive\") :\n",
    "        for e in trace:\n",
    "            if \"O_CREATED\" in e['concept:name']:\n",
    "                count += 1\n",
    "        counts_pos.append(count)\n",
    "    if contains(trace, \"negative\") :\n",
    "        for e in trace:\n",
    "            if \"O_CREATED\" in e['concept:name']:\n",
    "                count += 1\n",
    "        counts_neg.append(count)\n",
    "print(\"Average number of created offers in successful journeys\", sum(counts_pos)/len(counts_pos))\n",
    "print(\"Average number of created offers in unsuccessful journeys\", sum(counts_neg)/len(counts_neg))\n",
    "\n",
    "counts = []\n",
    "for trace in list_log_application:\n",
    "    count = 0\n",
    "    for e in trace:\n",
    "        if \"O_CREATED\" in e['concept:name']:\n",
    "            count += 1\n",
    "    counts.append(count)\n",
    "print(\"Average number of created offers in all journeys\", sum(counts)/len(counts))"
   ]
  },
  {
   "cell_type": "code",
   "execution_count": 18,
   "metadata": {},
   "outputs": [
    {
     "name": "stderr",
     "output_type": "stream",
     "text": [
      "exporting log, completed traces :: 100%|██████████| 5053/5053 [00:00<00:00, 5351.99it/s]\n"
     ]
    }
   ],
   "source": [
    "# export the log for easier further analysis\n",
    "def export(log, path):\n",
    "    # to use the pm4py write_xes function, an pm4py event log object is needed.\n",
    "    # for this is the list event log via the pandas data frame to a pm4py event log converted.\n",
    "    log_df = pd.DataFrame()\n",
    "    for trace in log:\n",
    "        assert(trace[0][\"concept:name\"]==\"start\")\n",
    "        assert(contains(trace, \"negative\") or contains(trace, \"positive\"))\n",
    "        log_df = log_df.append(trace, ignore_index=True)\n",
    "\n",
    "    event_log = pm4py.convert_to_event_log(log_df)\n",
    "    pm4py.write_xes(event_log, path) \n",
    "\n",
    "if SAVE_ELEMENTS:\n",
    "    export(list_log_application, BPI_PATH_PROCESSED)"
   ]
  },
  {
   "cell_type": "code",
   "execution_count": 19,
   "metadata": {},
   "outputs": [
    {
     "name": "stderr",
     "output_type": "stream",
     "text": [
      "parsing log, completed traces :: 100%|██████████| 5053/5053 [00:01<00:00, 3752.31it/s]\n"
     ]
    }
   ],
   "source": [
    "import_log = xes_importer.apply(BPI_PATH_PROCESSED)"
   ]
  },
  {
   "cell_type": "code",
   "execution_count": 20,
   "metadata": {},
   "outputs": [],
   "source": [
    "for trace_index in range(len(import_log)):\n",
    "    trace = import_log[trace_index]\n",
    "    if trace[0]['concept:name']!=\"start\":\n",
    "        for e in trace:\n",
    "            print(e['concept:name'])\n",
    "    assert(trace[0]['concept:name']==\"start\")"
   ]
  },
  {
   "attachments": {},
   "cell_type": "markdown",
   "metadata": {},
   "source": [
    "# Process Model Construction\n",
    "The process model is build with the published decision boundary tool.\n",
    "We iterate over different settings to find the most promising one.\n",
    "The final model uses the muli-set abstraction with a history of 5."
   ]
  },
  {
   "cell_type": "code",
   "execution_count": 21,
   "metadata": {},
   "outputs": [
    {
     "name": "stderr",
     "output_type": "stream",
     "text": [
      "parsing log, completed traces :: 100%|██████████| 5053/5053 [00:01<00:00, 3567.75it/s]\n",
      "parsing log, completed traces :: 100%|██████████| 5053/5053 [00:01<00:00, 2988.60it/s]\n",
      "parsing log, completed traces :: 100%|██████████| 5053/5053 [00:01<00:00, 3240.83it/s]\n",
      "parsing log, completed traces :: 100%|██████████| 5053/5053 [00:01<00:00, 3360.32it/s]\n",
      "parsing log, completed traces :: 100%|██████████| 5053/5053 [00:01<00:00, 3354.02it/s]\n",
      "parsing log, completed traces :: 100%|██████████| 5053/5053 [00:01<00:00, 3292.61it/s]\n",
      "parsing log, completed traces :: 100%|██████████| 5053/5053 [00:01<00:00, 3301.78it/s]\n",
      "parsing log, completed traces :: 100%|██████████| 5053/5053 [00:01<00:00, 3365.18it/s]\n"
     ]
    },
    {
     "name": "stdout",
     "output_type": "stream",
     "text": [
      "Abstraction multiset\n",
      "History: 3 Loops: 175666 Nodes: 177\n",
      "History: 4 Loops: 51746 Nodes: 316\n",
      "History: 5 Loops: 2 Nodes: 449\n",
      "History: 6 Loops: 6 Nodes: 560\n",
      "Abstraction sequence\n",
      "History: 3 Loops: 3500 Nodes: 254\n",
      "History: 4 Loops: 94 Nodes: 471\n",
      "History: 5 Loops: 0 Nodes: 706\n",
      "History: 6 Loops: 0 Nodes: 894\n"
     ]
    }
   ],
   "source": [
    "def compare(xes, activities, start = 3):\n",
    "    r = []\n",
    "    for type in [\"multiset\", \"sequence\"]:\n",
    "        r.append(\"Abstraction \"+ type)\n",
    "        for hist in range(start,7):\n",
    "            # use granular tool to build process models\n",
    "            o = subprocess.check_output([\"python3\", \"cli/process_model.py\", xes, \"cli/\", \"-t\", type, \"-hist\" , str(hist)])\n",
    "            f = str(o).replace(\"\\\\n'\", '').split(\"Generated: \")[-1]\n",
    "            o = subprocess.check_output([\"python3\", \"cli/build_game.py\", f, \"cli/\", activities])\n",
    "            f = str(o).replace(\"\\\\n'\", '').split(\"Generated: \")[-1]\n",
    "            inner_graph = nx.read_gexf(f)\n",
    "            r.append(\"History: \"+ str(hist)+ \" Loops: \"+str(len(list(nx.simple_cycles(inner_graph)))) + \" Nodes: \" +str(len(inner_graph.nodes())))\n",
    "    return r\n",
    "\n",
    "for e in compare(BPI_PATH_PROCESSED, ACTIVITIES_PATH):\n",
    "    print(e)"
   ]
  },
  {
   "attachments": {},
   "cell_type": "markdown",
   "metadata": {},
   "source": [
    "# Decision Boundary Analysis\n",
    "The decision boundary of the process model with the multi-set abstraction and history of 5 is analysed.\n",
    "In the accompanying paper we compare the properties of the BPIC'12 decision boundary with the ones from BPIC'17."
   ]
  },
  {
   "cell_type": "code",
   "execution_count": 22,
   "metadata": {},
   "outputs": [
    {
     "name": "stderr",
     "output_type": "stream",
     "text": [
      "parsing log, completed traces :: 100%|██████████| 5053/5053 [00:01<00:00, 3398.66it/s]\n"
     ]
    }
   ],
   "source": [
    "#  Build process model\n",
    "output = subprocess.check_output([\"python3\", \"cli/process_model.py\", BPI_PATH_PROCESSED, \"cli/\", \"-t\", \"multiset\", \"-hist\" , \"5\"])\n",
    "file_name = str(output).replace(\"\\\\n'\", '').split(\"Generated: \")[-1]\n",
    "# Build user journey game\n",
    "output = subprocess.check_output([\"python3\", \"cli/build_game.py\", file_name, \"cli/\", ACTIVITIES_PATH])\n",
    "file_name = str(output).replace(\"\\\\n'\", '').split(\"Generated: \")[-1]\n",
    "g = nx.read_gexf(file_name)"
   ]
  },
  {
   "cell_type": "code",
   "execution_count": 23,
   "metadata": {},
   "outputs": [
    {
     "name": "stdout",
     "output_type": "stream",
     "text": [
      "Plotted bpi2012.ps\n"
     ]
    }
   ],
   "source": [
    "def draw_dfg(g, name, layout = \"sfdp\"):\n",
    "    A = to_agraph(g)\n",
    "    edge_weights = nx.get_edge_attributes(g,'cost')\n",
    "    scaling = 10\n",
    "    for e in edge_weights:\n",
    "        e = A.get_edge(e[0], e[1])\n",
    "        #e.attr[\"penwidth\"] = edge_weights[e]*scaling\n",
    "        e.attr[\"fontsize\"] = \"20\"\n",
    "        e.attr[\"label\"] = edge_weights[e]\n",
    "    for e in g.edges:\n",
    "        if 'controllable' in g[e[0]][e[1]]:\n",
    "            if not g[e[0]][e[1]]['controllable']:\n",
    "                edge = A.get_edge(e[0], e[1])\n",
    "                edge.attr[\"style\"] = \"dotted\"\n",
    "\n",
    "    for s in g.nodes:\n",
    "        if \"decision_boundary\" in g.nodes[s]:\n",
    "            if g.nodes[s][\"decision_boundary\"]:\n",
    "                g.nodes[s]['color'] = \"blue\"\n",
    "    A.write(name.split(\".\")[0]+\".dot\")\n",
    "    A.layout(layout)\n",
    "    print(\"Plotted\", name)\n",
    "    A.draw(name)\n",
    "\n",
    "# plot process model for analysis\n",
    "if SAVE_ELEMENTS:\n",
    "    draw_dfg(g, \"bpi2012.ps\", \"dot\")  "
   ]
  },
  {
   "cell_type": "code",
   "execution_count": 24,
   "metadata": {},
   "outputs": [],
   "source": [
    "# construct decision boundary\n",
    "output = subprocess.check_output([\"python3\", \"cli/decision_boundary.py\", file_name, \"cli/\", VERIFYTA_PATH, \"-q\", \"cli/guaranteed_tool.q\"])\n",
    "file_name = str(output).replace(\"\\\\n'\", '').split(\"Generated: \")[-1]"
   ]
  },
  {
   "cell_type": "code",
   "execution_count": 25,
   "metadata": {},
   "outputs": [],
   "source": [
    "# apply reduction\n",
    "output = subprocess.check_output([\"python3\", \"cli/decision_boundary_reduction.py\", file_name, \"cli/\"])\n",
    "file_name = str(output).replace(\"\\\\n'\", '').split(\"Generated: \")[-1]\n",
    "\n",
    "g_dec_boundary = nx.read_gexf(file_name)"
   ]
  },
  {
   "cell_type": "code",
   "execution_count": 26,
   "metadata": {},
   "outputs": [
    {
     "name": "stdout",
     "output_type": "stream",
     "text": [
      "{\"A_FINALIZED\": 1, \"O_CREATED0\": 1, \"O_SENT_BACK\": 1, \"W_Nabellen incomplete dossiers#1\": 1, \"W_Nabellen offertes#0\": 1}\n",
      "{\"O_CANCELLED\": 2, \"O_CREATED4\": 1, \"W_Nabellen offertes#0\": 1, \"W_Nabellen offertes#2\": 1}\n",
      "{\"A_ACCEPTED\": 1, \"A_FINALIZED\": 1, \"O_CREATED0\": 1, \"O_SENT_BACK\": 1, \"W_Nabellen incomplete dossiers#1\": 1}\n",
      "{\"O_CANCELLED\": 1, \"O_CREATED2\": 1, \"O_SENT_BACK\": 1, \"W_Nabellen incomplete dossiers#0\": 1, \"W_Nabellen incomplete dossiers#2\": 1}\n",
      "{\"O_CANCELLED\": 1, \"O_CREATED2\": 1, \"O_SENT_BACK\": 2, \"W_Nabellen incomplete dossiers#2\": 1}\n",
      "{\"O_CANCELLED\": 2, \"O_CREATED5\": 1, \"W_Nabellen incomplete dossiers#0\": 2}\n",
      "{\"O_CANCELLED\": 1, \"O_CREATED3\": 1, \"O_SENT_BACK\": 1, \"W_Nabellen incomplete dossiers#2\": 1, \"W_Nabellen offertes#0\": 1}\n",
      "{\"O_CANCELLED\": 2, \"O_CREATED4\": 1, \"W_Nabellen offertes#0\": 2}\n",
      "{\"O_CANCELLED\": 2, \"O_CREATED4\": 1, \"O_SENT_BACK\": 1, \"W_Nabellen offertes#0\": 1}\n",
      "States in decision boundary 9\n"
     ]
    }
   ],
   "source": [
    "# function to retreive decision boundary states from \n",
    "def get_dec_bound(g):\n",
    "    bound = []\n",
    "    for s in g.nodes:\n",
    "        if \"decision_boundary\" in g.nodes[s]:\n",
    "            if g.nodes[s][\"decision_boundary\"]:\n",
    "                bound.append(s)\n",
    "                print(s)\n",
    "    return bound\n",
    "\n",
    "bound = get_dec_bound(g_dec_boundary)\n",
    "print(\"States in decision boundary\", len(bound))"
   ]
  },
  {
   "cell_type": "code",
   "execution_count": 27,
   "metadata": {},
   "outputs": [],
   "source": [
    "# bound contains no element with no call (\"W_Nabellen\")\n",
    "for n in bound:\n",
    "    if \"W_Nabellen\" not in n:\n",
    "        print(n)"
   ]
  },
  {
   "cell_type": "code",
   "execution_count": 28,
   "metadata": {},
   "outputs": [
    {
     "name": "stdout",
     "output_type": "stream",
     "text": [
      "States with one cancellations\n",
      "{\"O_CANCELLED\": 1, \"O_CREATED2\": 1, \"O_SENT_BACK\": 1, \"W_Nabellen incomplete dossiers#0\": 1, \"W_Nabellen incomplete dossiers#2\": 1}\n",
      "{\"O_CANCELLED\": 1, \"O_CREATED2\": 1, \"O_SENT_BACK\": 2, \"W_Nabellen incomplete dossiers#2\": 1}\n",
      "{\"O_CANCELLED\": 1, \"O_CREATED3\": 1, \"O_SENT_BACK\": 1, \"W_Nabellen incomplete dossiers#2\": 1, \"W_Nabellen offertes#0\": 1}\n",
      "\n",
      "States with two cancellations\n",
      "{\"O_CANCELLED\": 2, \"O_CREATED4\": 1, \"W_Nabellen offertes#0\": 1, \"W_Nabellen offertes#2\": 1}\n",
      "{\"O_CANCELLED\": 2, \"O_CREATED5\": 1, \"W_Nabellen incomplete dossiers#0\": 2}\n",
      "{\"O_CANCELLED\": 2, \"O_CREATED4\": 1, \"W_Nabellen offertes#0\": 2}\n",
      "{\"O_CANCELLED\": 2, \"O_CREATED4\": 1, \"O_SENT_BACK\": 1, \"W_Nabellen offertes#0\": 1}\n",
      "\n",
      "States with no cancellations\n",
      "{\"A_FINALIZED\": 1, \"O_CREATED0\": 1, \"O_SENT_BACK\": 1, \"W_Nabellen incomplete dossiers#1\": 1, \"W_Nabellen offertes#0\": 1}\n",
      "{\"A_ACCEPTED\": 1, \"A_FINALIZED\": 1, \"O_CREATED0\": 1, \"O_SENT_BACK\": 1, \"W_Nabellen incomplete dossiers#1\": 1}\n"
     ]
    }
   ],
   "source": [
    "print(\"States with one cancellations\")\n",
    "for n in bound:\n",
    "    if '\"O_CANCELLED\": 1' in n:\n",
    "        print(n)\n",
    "print()\n",
    "print(\"States with two cancellations\")\n",
    "for n in bound:\n",
    "    if '\"O_CANCELLED\": 2' in n:\n",
    "        print(n)\n",
    "print()\n",
    "print(\"States with no cancellations\")\n",
    "for n in bound:\n",
    "    if \"O_CANCELLED\" not in n:\n",
    "        print(n)"
   ]
  },
  {
   "cell_type": "code",
   "execution_count": 29,
   "metadata": {},
   "outputs": [],
   "source": [
    "def to_set(bound):\n",
    "    bounds = []\n",
    "    for n in bound:\n",
    "        b = {}\n",
    "        n = n.replace(\"{\",\"\")\n",
    "        n = n.replace(\"}\",\"\")\n",
    "        n = n.replace('\"',\"\")\n",
    "        n = n.replace(' ',\"\")\n",
    "        s = n.split(\",\")\n",
    "        for e in s:\n",
    "            s1 = e.split(\":\")\n",
    "            b[s1[0]] = int(s1[-1])\n",
    "        bounds.append(b)\n",
    "    return bounds\n",
    "bounds = to_set(bound)"
   ]
  },
  {
   "cell_type": "code",
   "execution_count": 30,
   "metadata": {},
   "outputs": [],
   "source": [
    "def dist(s,t):\n",
    "    not_contained = 0\n",
    "    for k in s:\n",
    "        if k not in t:\n",
    "            not_contained += 1\n",
    "        elif s[k] != t[k]:\n",
    "            not_contained += abs(s[k]-t[k])\n",
    "    return not_contained\n",
    "\n",
    "def build_dec_bound_graph(bounds):\n",
    "    g = nx.Graph()\n",
    "    for s in bounds:\n",
    "        g.add_node(str(s))\n",
    "    for s in bounds:\n",
    "        for t in bounds:\n",
    "            if s == t:\n",
    "                continue\n",
    "            if dist(s,t) <= 1:\n",
    "                g.add_edge(str(s),str(t))\n",
    "    return g\n",
    "g = build_dec_bound_graph(bounds)"
   ]
  },
  {
   "cell_type": "code",
   "execution_count": 31,
   "metadata": {},
   "outputs": [],
   "source": [
    "# allows to plot the decision boundary as independent graph and analyse the cancellation clusters; requires that input models are in multi-set form\n",
    "# (not part of publication)\n",
    "def cluster_contains(c, s):\n",
    "    for e in c:\n",
    "        if s not in e:\n",
    "            return False\n",
    "    return True\n",
    "\n",
    "def analyse_decision_boundary(file_name, name):\n",
    "    g_dec_boundary = nx.read_gexf(file_name)\n",
    "    bound = get_dec_bound(g_dec_boundary)\n",
    "    bounds = to_set(bound)\n",
    "    g = build_dec_bound_graph(bounds)\n",
    "\n",
    "    A = to_agraph(g)\n",
    "\n",
    "    count = 0\n",
    "    for c in nx.connected_components(g):\n",
    "        print(list(c)[0])\n",
    "        print(len(c))\n",
    "\n",
    "        label = \"0\" if not cluster_contains(c,\"O_CANCELLED\") else \"1\" if cluster_contains(c,\"'O_CANCELLED': 1\") else \"2\"\n",
    "        \n",
    "        if label == \"0\":\n",
    "            assert(not cluster_contains(c,\"'O_CANCELLED': 1\"))\n",
    "            assert(not cluster_contains(c,\"'O_CANCELLED': 2\"))\n",
    "\n",
    "        if label == \"1\":\n",
    "            assert(not cluster_contains(c,\"'O_CANCELLED': 2\"))\n",
    "\n",
    "        if label == \"2\":\n",
    "            assert(not cluster_contains(c,\"'O_CANCELLED': 1\"))\n",
    "\n",
    "        colors = [\"blue\", \"red\", \"orange\"]\n",
    "        A.add_subgraph(c, name='cluster_'+str(count), label= \"#\"+label, color = colors[int(label)], fontsize = 60, fontcolor = colors[int(label)])\n",
    "\n",
    "        count+=1\n",
    "\n",
    "    for n in A.nodes():\n",
    "        n.attr['penwidth'] = 5\n",
    "        n.attr[\"label\"] = \"\"\n",
    "\n",
    "    A.layout(\"dot\")\n",
    "    print(\"Plotted\", name)\n",
    "    A.draw(name)\n",
    "    \n",
    "    nx.draw(g, node_size=80)"
   ]
  },
  {
   "cell_type": "code",
   "execution_count": 32,
   "metadata": {},
   "outputs": [
    {
     "name": "stdout",
     "output_type": "stream",
     "text": [
      "Plotted clustered_2012.png\n"
     ]
    }
   ],
   "source": [
    "# produces Figure 6 in the publication - reduced decision boundary plot\n",
    "def draw_dfg_cluster(g, name, layout = \"sfdp\"):\n",
    "\n",
    "    # color graph\n",
    "    for s in g:\n",
    "        outgoing_sum = 0\n",
    "        if \"color\" in g.nodes[s]:\n",
    "            if g.nodes[s]['color'] == \"blue\":\n",
    "                    continue\n",
    "        for n in g[s]:\n",
    "            if \"cost\" in g[s][n]:\n",
    "                outgoing_sum += g[s][n][\"cost\"]\n",
    "        if outgoing_sum >= 16:\n",
    "            g.nodes[s]['color'] = \"#0ead69\"\n",
    "        elif outgoing_sum <= -30:\n",
    "            g.nodes[s]['color'] = \"#9a031e\"\n",
    "        else:\n",
    "            g.nodes[s]['color'] = \"grey\"\n",
    "            \n",
    "    A = to_agraph(g)\n",
    "    edge_weights = nx.get_edge_attributes(g,'cost')\n",
    "    scaling = 10\n",
    "    for e in edge_weights:\n",
    "        e = A.get_edge(e[0], e[1])\n",
    "        e.attr[\"penwidth\"] = \"15\"\n",
    "        e.attr[\"fontsize\"] = \"20\"\n",
    "        e.attr[\"label\"] = \"\"\n",
    "        e.attr[\"color\"] = \"red\" if edge_weights[e] < 0 else \"green\"\n",
    "    for e in g.edges:\n",
    "        if 'controllable' in g[e[0]][e[1]]:\n",
    "            if not g[e[0]][e[1]]['controllable']:\n",
    "                edge = A.get_edge(e[0], e[1])\n",
    "                edge.attr[\"style\"] = \"dotted\"\n",
    "        \n",
    "    clusters = {\"0\": [], \"1\": [], \"2\":[]}\n",
    "    for s in A.nodes():\n",
    "        if \"decision_boundary\" in s.attr:\n",
    "            if s.attr[\"decision_boundary\"] == \"True\":\n",
    "                s.attr['color'] = \"blue\"\n",
    "                \n",
    "                c = \"0\" if not \"O_CANCELLED\" in s else \"1\" if '\"O_CANCELLED\": 1' in s else \"2\"\n",
    "                clusters[c].append(s)\n",
    "\n",
    "    count = 0\n",
    "    for n in A.nodes():\n",
    "        n.attr['fontsize'] = 100\n",
    "        n.attr['penwidth'] = 20\n",
    "        n.attr['height'] = 2\n",
    "        n.attr['width'] = 2\n",
    "        if n == \"pos\":\n",
    "            n.attr['color'] = \"#0ead69\"\n",
    "            n.attr['fontcolor'] = \"#0ead69\"\n",
    "            n.attr['label'] = 'Cpos'\n",
    "        if n == \"neg\":\n",
    "            n.attr['color'] = \"#9a031e\"\n",
    "            n.attr['fontcolor'] = \"#9a031e\"\n",
    "            n.attr['label'] = 'Cneg'\n",
    "        \n",
    "            \n",
    "        if n not in [\"pos\", \"neg\"]:\n",
    "            n.attr['label'] = \"\"\n",
    "    \n",
    "    A.layout(layout)\n",
    "    print(\"Plotted\", name)\n",
    "    A.draw(name)\n",
    "\n",
    "def get_connection(g):\n",
    "    for s in g:\n",
    "        if len(list(g[s]))!= 1:\n",
    "            continue\n",
    "        assert(len(list(g[s]))==1)\n",
    "        v = list(g[s])[0]\n",
    "\n",
    "        edges = list(g.in_edges(v))\n",
    "        if len(edges) == 1:\n",
    "            s1 = edges[0][0]\n",
    "            v1 = edges[0][1]\n",
    "            assert(s == s1 and v == v1)\n",
    "            return (s,v)\n",
    "    return None\n",
    "\n",
    "# Function to merge all 1:1 edges, produces a smaller plot\n",
    "def merge_connections(g):\n",
    "    g = copy.deepcopy(g)\n",
    "    \n",
    "    edge = get_connection(g)\n",
    "    while(edge != None):\n",
    "        g = nx.contracted_nodes(g, edge[1], edge[0])\n",
    "        g.remove_edges_from(nx.selfloop_edges(g))\n",
    "        edge = get_connection(g)\n",
    "        \n",
    "    return g\n",
    "\n",
    "if SAVE_ELEMENTS:\n",
    "    to_draw = nx.read_gexf(file_name)\n",
    "    to_draw = merge_connections(to_draw)\n",
    "    draw_dfg_cluster(to_draw, \"clustered_2012.png\", layout = \"dot\")\n"
   ]
  },
  {
   "attachments": {},
   "cell_type": "markdown",
   "metadata": {},
   "source": [
    "# Dimension Reduction\n",
    "We investigate the applicability of the decision boundary as dimension reduction technique.\n",
    "When interpreting single events as features, many events are highly correlated.\n",
    "For instance, when entering the positive or negative cluster the outcome is determined and many events are thus positively correlated.\n",
    "When removing the events contained in the decision boundary, the present correlations reduce drastically."
   ]
  },
  {
   "cell_type": "code",
   "execution_count": 33,
   "metadata": {},
   "outputs": [],
   "source": [
    "def ms(trace):\n",
    "    multiset = {}\n",
    "    for pos in trace:\n",
    "        if pos['concept:name'] not in multiset:\n",
    "            multiset[pos['concept:name']] = 1\n",
    "        else:\n",
    "            multiset[pos['concept:name']] += 1\n",
    "    return json.dumps(multiset, sort_keys=True).encode().decode(\"utf-8\") # use json encodings for multisets\n",
    "\n",
    "def hist(trace): \n",
    "    hist = str(trace[0]['concept:name'])\n",
    "    for pos in trace[1:]:\n",
    "        hist += \" - \" + str(pos['concept:name']) # construct history\n",
    "    return hist\n",
    "\n",
    "def to_df(log, file_name, abstraction_history):\n",
    "    system = nx.read_gexf(file_name)\n",
    "    trace_df = pd.DataFrame(columns = list(system.edges()).append(\"y\"))\n",
    "    for trace in log:\n",
    "        trace_edges = [x['concept:name'] for x in trace]\n",
    "        data = {}\n",
    "        s = \"start\"\n",
    "        assert(trace[0]['concept:name']==\"start\")\n",
    "        for i in range(1,len(trace_edges)):\n",
    "            t = ms(trace[max(0,i-abstraction_history+1):i+1])\n",
    "            if t not in list(system.nodes()):\n",
    "                s = t\n",
    "                continue\n",
    "            if (s,t) not in data:\n",
    "                data[(s,t)] = 1\n",
    "            else:\n",
    "                data[(s,t)] = data[(s,t)]+1\n",
    "            s = t\n",
    "        data[\"y\"] = 1 if \"positive\" in trace_edges else -1\n",
    "        trace_df = trace_df.append(data, ignore_index=True)\n",
    "    trace_df = trace_df.fillna(0)\n",
    "    assert(len(trace_df.index) == len(log))\n",
    "    return trace_df\n",
    "\n",
    "# analyse used process model with mutli-set abstraction and history 5\n",
    "trace_df = to_df(list_log_application,\"cli/DECB_input:bpi2012_type:multiset_history:5_actors:activities2012_unrolling_factor:0_.gexf\" ,5)\n",
    "trace_df_reduced = to_df(list_log_application,\"cli/DECB_input:bpi2012_type:multiset_history:5_actors:activities2012_unrolling_factor:0_reduced:True.gexf\" ,5)\n",
    "correlations = trace_df.corr().unstack().to_dict()"
   ]
  },
  {
   "cell_type": "code",
   "execution_count": 34,
   "metadata": {},
   "outputs": [
    {
     "name": "stdout",
     "output_type": "stream",
     "text": [
      "Remaining correlations in % after reduction [0.0, nan, nan, 0.0, nan, 0.0, 0.5, 0.24, nan, nan, nan, nan, 0.38981173864894797, 0.32469775474956825, 0.3145631067961165, 0.340625, 0.45045045045045046, 0.2745762711864407, 0.5148514851485149, 0.2714535901926445]\n"
     ]
    },
    {
     "name": "stderr",
     "output_type": "stream",
     "text": [
      "/tmp/ipykernel_21340/1143302856.py:6: RuntimeWarning: invalid value encountered in double_scalars\n",
      "  print(\"Remaining correlations in % after reduction\", [counts1[i]/counts[i] for i in range(len(counts))])\n"
     ]
    },
    {
     "data": {
      "image/png": "[encoded data removed]",
      "text/plain": [
       "<Figure size 432x288 with 1 Axes>"
      ]
     },
     "metadata": {
      "needs_background": "light"
     },
     "output_type": "display_data"
    }
   ],
   "source": [
    "# construct comparison plot\n",
    "counts, bins, bars = plt.hist([x for x in trace_df.corr().unstack() if abs(x) > 0.2], 20, label = \"Original\", color = '#0C7BDC')\n",
    "\n",
    "counts1, bins1, bars1 = plt.hist([x for x in trace_df_reduced.corr().unstack() if abs(x) > 0.2], 20, label = \"Reduced\", color = '#FFC20A', range = [-1,1])\n",
    "\n",
    "print(\"Remaining correlations in % after reduction\", [counts1[i]/counts[i] for i in range(len(counts))])\n",
    "\n",
    "plt.xlabel(\"Pearson Correlation\", fontsize = 18)\n",
    "plt.ylabel(\"Occurrences\", fontsize = 18)\n",
    "plt.xticks(fontsize=14)\n",
    "plt.yticks(fontsize=14)\n",
    "plt.legend(prop={'size':14})\n",
    "plt.show()"
   ]
  },
  {
   "cell_type": "code",
   "execution_count": null,
   "metadata": {},
   "outputs": [],
   "source": []
  }
 ],
 "metadata": {
  "kernelspec": {
   "display_name": "Python 3.8.10 64-bit",
   "language": "python",
   "name": "python3"
  },
  "language_info": {
   "codemirror_mode": {
    "name": "ipython",
    "version": 3
   },
   "file_extension": ".py",
   "mimetype": "text/x-python",
   "name": "python",
   "nbconvert_exporter": "python",
   "pygments_lexer": "ipython3",
   "version": "3.8.10"
  },
  "orig_nbformat": 4,
  "vscode": {
   "interpreter": {
    "hash": "916dbcbb3f70747c44a77c7bcd40155683ae19c65e1c03b4aa3499c5328201f1"
   }
  }
 },
 "nbformat": 4,
 "nbformat_minor": 2
}
